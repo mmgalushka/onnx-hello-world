{
 "cells": [
  {
   "cell_type": "markdown",
   "source": [
    "# Tensorflow & ONNX\n",
    "\n",
    "In this tutorial, we investigate a conversion of the [Tensorflow (Keras)](https://www.tensorflow.org/) model to the [ONNX](https://onnx.ai/) format and compare both models. For performing experiments, we selected the \"adult\" classification data set. It contains a combination of numeric and categorical features.\n",
    "\n",
    "But before we start, let's set up our working environment."
   ],
   "metadata": {}
  },
  {
   "cell_type": "code",
   "execution_count": 47,
   "source": [
    "# Let's make a temporary directory for the artifact created by this notebook.\n",
    "import os\n",
    "if not os.path.exists('tmp'):\n",
    "    os.makedirs('tmp')"
   ],
   "outputs": [],
   "metadata": {}
  },
  {
   "cell_type": "markdown",
   "source": [
    "## Prepare Dataset\n",
    "\n",
    "For creating ML models we loaded the \"adult\" dataset and selected the following features:\n",
    "\n",
    "| Feature      | Kind        | Type    | Enforce(*) |\n",
    "| -------------| ----------- | ------- | ---------- |\n",
    "| sepal_length | numeric     | float32 | yes        |\n",
    "| sepal_width  | numeric     | float32 | yes        |\n",
    "| petal_length | numeric     | float32 | yes        |\n",
    "| petal_width  | numeric     | float32 | yes        |\n",
    "\n",
    "(*) We will need to enforce types for features whose original types have been detected differently from our expectations.\n",
    "\n",
    "We forced the conversion of all numeric fields \"sepal_length\", \"sepal_width\", \"petal_length\" and \"petal_width\" from **float64** to **float32**. For our experiments, we do not need this precision."
   ],
   "metadata": {}
  },
  {
   "cell_type": "code",
   "execution_count": 49,
   "source": [
    "import numpy as np\n",
    "from utils import load_dataset\n",
    "\n",
    "# Sets the loading dataset name.\n",
    "dataset_name = 'adult'\n",
    "\n",
    "# Loads the dataset.\n",
    "dataset = load_dataset(dataset_name)\n",
    "\n",
    "dataset.X.dtypes\n",
    "\n",
    "# Selects \"float32\" for the numeric columns.\n",
    "# dataset['sepal_length'] = dataset['sepal_length'].astype(np.float32)\n",
    "# dataset['sepal_width'] = dataset['sepal_width'].astype(np.float32)\n",
    "# dataset['petal_length'] = dataset['petal_length'].astype(np.float32)\n",
    "# dataset['petal_length'] = dataset['petal_length'].astype(np.float32)\n",
    "\n",
    "# Splits data into training (2/3) and test (1/3).\n",
    "# train, test = dataset.train_test_split()\n",
    "\n",
    "# print('Loaded \"%s\" datase:' % dataset_name)\n",
    "# print('   - number of training samples: %d' % len(train))\n",
    "# print('   - number of test samples:     %d' % len(test))\n"
   ],
   "outputs": [
    {
     "output_type": "execute_result",
     "data": {
      "text/plain": [
       "Age               int64\n",
       "fnlwgt            int64\n",
       "EducationNum      int64\n",
       "CapitalGain       int64\n",
       "CapitalLoss       int64\n",
       "HoursPerWeek      int64\n",
       "WorkClass        object\n",
       "Education        object\n",
       "MaritalStatus    object\n",
       "Occupation       object\n",
       "Relationship     object\n",
       "Race             object\n",
       "Gender           object\n",
       "NativeCountry    object\n",
       "dtype: object"
      ]
     },
     "metadata": {},
     "execution_count": 49
    }
   ],
   "metadata": {}
  },
  {
   "cell_type": "code",
   "execution_count": 52,
   "source": [
    "from utils import create_preprocessor\n",
    "from sklearn.model_selection import train_test_split\n",
    "\n",
    "# Creates a data preprocessing pipeline.\n",
    "preprocessor = create_preprocessor(dataset)\n",
    "\n",
    "X = preprocessor.fit_transform(dataset.X).toarray().astype(np.float32)\n",
    "y = np.where(dataset.y == '>50K',1,0).astype(np.int32)\n",
    "\n",
    "\n",
    "X_train, X_test, y_train, y_test = train_test_split(\n",
    "    X, y, test_size=0.33, random_state=42\n",
    ")\n"
   ],
   "outputs": [],
   "metadata": {}
  },
  {
   "cell_type": "markdown",
   "source": [
    "## Train & Test XGBoost Model\n",
    "\n",
    "First, we need to define the XGBoost classifier."
   ],
   "metadata": {}
  },
  {
   "cell_type": "code",
   "execution_count": 55,
   "source": [
    "from tensorflow.keras.models import Sequential\n",
    "from tensorflow.keras.layers import Dense, Dropout\n",
    "from tensorflow.keras.callbacks import ModelCheckpoint\n",
    "\n",
    "# Builds models in Keras using the Sequential interface.\n",
    "model = Sequential()\n",
    "\n",
    "# Adds a first Dense supplying the input shape of your data.\n",
    "model.add(Dense(100, input_shape=[X_train.shape[1]], activation='relu'))\n",
    "\n",
    "# Adding more Dense layers to learn more complex relationships. \n",
    "# We will Dropout layers to prevent model overfitting.\n",
    "model.add(Dropout(0.2))\n",
    "model.add(Dense(100, activation='relu'))\n",
    "model.add(Dropout(0.2))\n",
    "model.add(Dense(100, activation='relu'))\n",
    "model.add(Dropout(0.2))\n",
    "\n",
    "# Lets use Last Dense layer with the Sigmoid activation (due to the  binary \n",
    "# classification)\n",
    "model.add(Dense(1, activation='sigmoid'))\n",
    "\n",
    "#  Compiles the model and prits its summary.\n",
    "model.compile(optimizer='adam', loss='binary_crossentropy', metrics=['accuracy'])\n",
    "model.summary()"
   ],
   "outputs": [
    {
     "output_type": "stream",
     "name": "stdout",
     "text": [
      "Model: \"sequential_2\"\n",
      "_________________________________________________________________\n",
      "Layer (type)                 Output Shape              Param #   \n",
      "=================================================================\n",
      "dense_8 (Dense)              (None, 100)               10900     \n",
      "_________________________________________________________________\n",
      "dropout_6 (Dropout)          (None, 100)               0         \n",
      "_________________________________________________________________\n",
      "dense_9 (Dense)              (None, 100)               10100     \n",
      "_________________________________________________________________\n",
      "dropout_7 (Dropout)          (None, 100)               0         \n",
      "_________________________________________________________________\n",
      "dense_10 (Dense)             (None, 100)               10100     \n",
      "_________________________________________________________________\n",
      "dropout_8 (Dropout)          (None, 100)               0         \n",
      "_________________________________________________________________\n",
      "dense_11 (Dense)             (None, 1)                 101       \n",
      "=================================================================\n",
      "Total params: 31,201\n",
      "Trainable params: 31,201\n",
      "Non-trainable params: 0\n",
      "_________________________________________________________________\n"
     ]
    }
   ],
   "metadata": {}
  },
  {
   "cell_type": "markdown",
   "source": [
    "Then we create a training pipeline that combines data preprocessor and classifier. The data preprocessor provides steps for handling numeric features. For more information, please review the utility function **create_preprocessor** in the **utils** module.\n",
    "\n",
    "**Please note**, our goal for this tutorial is not to create the best classification model for the \"iris\" dataset. So we will not focus on picking the best feature and optimizing hyperparameters of the different classifiers. Our goal is to learn more about ONNX! :wink:\n",
    "\n",
    "The trained ML model showed an accuracy of **100%**. "
   ],
   "metadata": {}
  },
  {
   "cell_type": "code",
   "execution_count": 62,
   "source": [
    "from sklearn.metrics import accuracy_score\n",
    "\n",
    "# Trains the Tenserflow (Keras) model.\n",
    "model.fit(X_train, y_train, batch_size=64, epochs=20, verbose=1, \n",
    "          validation_data=(X_test,y_test))\n",
    "\n",
    "# Uses the model for scoring.\n",
    "y_tensorflow_probas = model.predict(X_test)                              # collects the prediction probabilities;\n",
    "y_tensorflow_pred = np.where(y_tensorflow_probas > 0.5, 1, 0).flatten()  # collects the predicted labels;\n",
    "\n",
    "# Just for convenience name the test.y labels as the ground truth.\n",
    "y_true = y_test\n",
    "\n",
    "# Computes the accuracy score.\n",
    "tensorflow_accuracy = accuracy_score(y_true, y_tensorflow_pred)\n",
    "print('The model accuracy: %.2f' % tensorflow_accuracy)"
   ],
   "outputs": [
    {
     "output_type": "stream",
     "name": "stdout",
     "text": [
      "The model accuracy: 0.85\n"
     ]
    }
   ],
   "metadata": {}
  },
  {
   "cell_type": "markdown",
   "source": [
    "## Convert Model To ONNX\n",
    "\n",
    "Next, we need to convert the XGBoost model into the ONNX format and serialize it to the file. The conversion process is done by the **convert_sklearn** function. However, before calling this function, we need to register the [XGBoost convertor](https://github.com/onnx/onnxmltools). The rest of the process is the same as for [SKLearn notebook](onnx_sklearn.ipynb).\n",
    "\n",
    "One important aspect you need to focus on is setting correct input types. To do that we provided the utility function **get_onnx_input_type** defined in the **utils** module. It takes the training dataset and uses it to guess ONNX input types. This function has meant to be generic, so we can reuse it in different notebooks. In practice, you can optimize the input types to feet your data."
   ],
   "metadata": {}
  },
  {
   "cell_type": "code",
   "execution_count": 63,
   "source": [
    "from tensorflow import keras\n",
    "import tf2onnx.convert\n",
    "\n",
    "model.save('tmp/xxx.h5', overwrite=True, include_optimizer=False, save_format='tf')\n",
    "model = keras.models.load_model('tmp/xxx.h5')\n",
    "onnx_model, _ = tf2onnx.convert.from_keras(model)\n",
    "\n",
    "\n",
    "# # Converts the model to the ONNX format.\n",
    "onnx_filename = 'model.onnx'\n",
    "# # onnx_model = convert_keras(model, 'aaa')\n",
    "\n",
    "# Serializes the ONNX model to the file.\n",
    "with open(os.path.join('tmp', onnx_filename), \"wb\") as f:\n",
    "    f.write(onnx_model.SerializeToString())\n",
    "    print('The ONNX model has been successfully saved in \"model.onnx\" file.')"
   ],
   "outputs": [
    {
     "output_type": "stream",
     "name": "stdout",
     "text": [
      "WARNING:tensorflow:No training configuration found in the save file, so the model was *not* compiled. Compile it manually.\n",
      "The ONNX model has been successfully saved in \"model.onnx\" file.\n"
     ]
    },
    {
     "output_type": "stream",
     "name": "stderr",
     "text": [
      "2021-09-08 14:21:20.685163: I tensorflow/stream_executor/cuda/cuda_gpu_executor.cc:937] successful NUMA node read from SysFS had negative value (-1), but there must be at least one NUMA node, so returning NUMA node zero\n",
      "2021-09-08 14:21:20.685483: I tensorflow/core/grappler/devices.cc:66] Number of eligible GPUs (core count >= 8, compute capability >= 0.0): 1\n",
      "2021-09-08 14:21:20.685542: I tensorflow/core/grappler/clusters/single_machine.cc:357] Starting new session\n",
      "2021-09-08 14:21:20.685856: I tensorflow/stream_executor/cuda/cuda_gpu_executor.cc:937] successful NUMA node read from SysFS had negative value (-1), but there must be at least one NUMA node, so returning NUMA node zero\n",
      "2021-09-08 14:21:20.686086: W tensorflow/core/common_runtime/gpu/gpu_device.cc:1835] Cannot dlopen some GPU libraries. Please make sure the missing libraries mentioned above are installed properly if you would like to use GPU. Follow the guide at https://www.tensorflow.org/install/gpu for how to download and setup the required libraries for your platform.\n",
      "Skipping registering GPU devices...\n",
      "2021-09-08 14:21:20.686816: I tensorflow/core/grappler/optimizers/meta_optimizer.cc:1137] Optimization results for grappler item: graph_to_optimize\n",
      "  function_optimizer: function_optimizer did nothing. time = 0.005ms.\n",
      "  function_optimizer: function_optimizer did nothing. time = 0ms.\n",
      "\n",
      "2021-09-08 14:21:20.726172: I tensorflow/stream_executor/cuda/cuda_gpu_executor.cc:937] successful NUMA node read from SysFS had negative value (-1), but there must be at least one NUMA node, so returning NUMA node zero\n",
      "2021-09-08 14:21:20.726544: I tensorflow/core/grappler/devices.cc:66] Number of eligible GPUs (core count >= 8, compute capability >= 0.0): 1\n",
      "2021-09-08 14:21:20.726663: I tensorflow/core/grappler/clusters/single_machine.cc:357] Starting new session\n",
      "2021-09-08 14:21:20.728758: I tensorflow/stream_executor/cuda/cuda_gpu_executor.cc:937] successful NUMA node read from SysFS had negative value (-1), but there must be at least one NUMA node, so returning NUMA node zero\n",
      "2021-09-08 14:21:20.729133: W tensorflow/core/common_runtime/gpu/gpu_device.cc:1835] Cannot dlopen some GPU libraries. Please make sure the missing libraries mentioned above are installed properly if you would like to use GPU. Follow the guide at https://www.tensorflow.org/install/gpu for how to download and setup the required libraries for your platform.\n",
      "Skipping registering GPU devices...\n",
      "2021-09-08 14:21:20.733686: I tensorflow/core/grappler/optimizers/meta_optimizer.cc:1137] Optimization results for grappler item: graph_to_optimize\n",
      "  constant_folding: Graph size after: 26 nodes (-8), 33 edges (-8), time = 1.669ms.\n",
      "  function_optimizer: function_optimizer did nothing. time = 0.045ms.\n",
      "  constant_folding: Graph size after: 26 nodes (0), 33 edges (0), time = 0.479ms.\n",
      "  function_optimizer: function_optimizer did nothing. time = 0.021ms.\n",
      "\n"
     ]
    }
   ],
   "metadata": {}
  },
  {
   "cell_type": "markdown",
   "source": [
    "## Load & Test ONNX Model\n",
    "\n",
    "To load the model, we just need to specify its file name in the runtime. \n",
    "\n",
    "```Python\n",
    "sess = rt.InferenceSession(os.path.join('tmp', onnx_filename))\n",
    "```\n",
    "\n",
    "Unfortunately, we cannot use the test Pandas data frame directly for inference. The data entering the ONNX model has to be transformed in a slightly different format. To perform this transformation we are using the **get_onnx_input_data** function defined in the **utils** module. This function converts the Pandas data frame:\n",
    "\n",
    "```\n",
    "     sepal_length  sepal_width  petal_length  petal_width\n",
    "73            6.1          2.8           4.7          1.2\n",
    "18            5.7          3.8           1.7          0.3\n",
    "118           7.7          2.6           6.9          2.3\n",
    "78            6.0          2.9           4.5          1.5\n",
    "76            6.8          2.8           4.8          1.4\n",
    "..            ...          ...           ...          ...\n",
    "81            5.5          2.4           3.7          1.0\n",
    "133           6.3          2.8           5.1          1.5\n",
    "137           6.4          3.1           5.5          1.8\n",
    "75            6.6          3.0           4.4          1.4\n",
    "109           7.2          3.6           6.1          2.5\n",
    "```\n",
    "\n",
    "in the following dictionary:\n",
    "\n",
    "```\n",
    "{\n",
    "    'sepal_length': array([\n",
    "        [6.1],\n",
    "        [5.7],\n",
    "        [7.7],\n",
    "        [6. ],\n",
    "        [6.8],\n",
    "        ...\n",
    "        [7.2]], dtype=float32), \n",
    "    'sepal_width': array([\n",
    "        [[2.8],\n",
    "        [3.8],\n",
    "        [2.6],\n",
    "        [2.9],\n",
    "        [2.8],\n",
    "        ...\n",
    "        [3.6]], dtype=float32),\n",
    "    'petal_length': array([\n",
    "        [4.7],\n",
    "        [1.7],\n",
    "        [6.9],\n",
    "        [4.5],\n",
    "        [4.8],\n",
    "        ...\n",
    "        [6.1]], dtype=float32),\n",
    "    'petal_width': array(\n",
    "        [[1.2],\n",
    "        [0.3],\n",
    "        [2.3],\n",
    "        [1.5],\n",
    "        [1.4],\n",
    "        ...\n",
    "        [2.5]], dtype=float32)\n",
    "}\n",
    "```\n",
    "\n",
    "The ONNX model uses this dictionary for inference. From the experiment, we got the accuracy of the ONNX model 100%, which is the same as the original XGBoost model. So we can conclude that both models have the same performance."
   ],
   "metadata": {}
  },
  {
   "cell_type": "code",
   "execution_count": 69,
   "source": [
    "import onnxruntime as rt\n",
    "\n",
    "sess = rt.InferenceSession(os.path.join('tmp', onnx_filename))\n",
    "X_test = X_test.astype(np.float32)\n",
    "\n",
    "# feed = dict([(input.name, X_test[:,n]) for n, input in enumerate(sess.get_inputs())])\n",
    "# print(feed)\n",
    "\n",
    "\n",
    "feed = {sess.get_inputs()[0].name:X_test}\n",
    "\n",
    "y_onnx_probas = sess.run(None, feed)\n",
    "y_onnx_pred = np.where(y_onnx_probas[0] > 0.5, 1, 0)\n",
    "\n",
    "onnx_accuracy = accuracy_score(y_true, y_onnx_pred)\n",
    "print('The ONNX model accuracy: %.2f' % onnx_accuracy)"
   ],
   "outputs": [
    {
     "output_type": "stream",
     "name": "stdout",
     "text": [
      "The ONNX model accuracy: 0.85\n"
     ]
    }
   ],
   "metadata": {}
  },
  {
   "cell_type": "markdown",
   "source": [
    "## Compare XGBoost & ONNX Models \n",
    "\n",
    "Even we did not detect any difference between XGBoost and ONNX models' accuracies, let's visualize the confusion matrix. In this confusion matrix, we will consider the predictions generated by the XGBoost model as ground truth (GT)."
   ],
   "metadata": {}
  },
  {
   "cell_type": "code",
   "execution_count": 70,
   "source": [
    "import seaborn as sn\n",
    "import pandas as pd\n",
    "import matplotlib.pyplot as plt\n",
    "\n",
    "from sklearn.metrics import confusion_matrix\n",
    "\n",
    "# Creates the confusion matrix.\n",
    "cm = confusion_matrix(y_tensorflow_pred, y_onnx_pred)\n",
    "df_cm = pd.DataFrame(cm, range(2), range(2))\n",
    "\n",
    "# Makes a confusion matrix plot.\n",
    "fig, ax = plt.subplots(figsize=(5,5))\n",
    "sn.heatmap(df_cm, annot=True, fmt='d', ax=ax)\n",
    "ax.set_title( f'Confusion matrix between XGBboost and\\nONNX models predictions, where\\nXGBoost is considered as ground truth\\n(based on \"{dataset_name}\" dataset)' )\n",
    "ax.set_xlabel(\"ONNX Model Predictions\")\n",
    "ax.set_ylabel(\"XGBoost Model Predictions (GT)\")\n",
    "plt.tight_layout()"
   ],
   "outputs": [
    {
     "output_type": "display_data",
     "data": {
      "image/png": "[encoded data removed]",
      "text/plain": [
       "<Figure size 360x360 with 2 Axes>"
      ]
     },
     "metadata": {
      "needs_background": "light"
     }
    }
   ],
   "metadata": {}
  },
  {
   "cell_type": "markdown",
   "source": [
    "Despite the same accuracy, we expect some differences in prediction probabilities. To visualize these differences, we substruct  ONNX probabilities from XGBoost probabilities and then plot the distribution of differences using a box plot."
   ],
   "metadata": {}
  },
  {
   "cell_type": "code",
   "execution_count": null,
   "source": [
    "print(dataset.y)"
   ],
   "outputs": [
    {
     "output_type": "stream",
     "name": "stdout",
     "text": [
      "0         setosa\n",
      "1         setosa\n",
      "2         setosa\n",
      "3         setosa\n",
      "4         setosa\n",
      "         ...    \n",
      "145    virginica\n",
      "146    virginica\n",
      "147    virginica\n",
      "148    virginica\n",
      "149    virginica\n",
      "Name: species, Length: 150, dtype: object\n"
     ]
    }
   ],
   "metadata": {}
  },
  {
   "cell_type": "code",
   "execution_count": 79,
   "source": [
    "from sklearn.metrics import r2_score\n",
    "\n",
    "\n",
    "# Convert XGBoost and ONNX probabilities into Pandas data frame. This will\n",
    "# help us to perform mathematical operations later.\n",
    "df_xgboost_probas = pd.DataFrame(y_tensorflow_probas, columns=[0])\n",
    "df_onnx_probas = pd.DataFrame(y_onnx_probas[0], columns=[0])\n",
    "\n",
    "# Computes a difference between XGBoost and ONNX probabilities.\n",
    "df_diff = df_xgboost_probas - df_onnx_probas\n",
    "\n",
    "# Makes a Box plot.\n",
    "poxplot = df_diff.boxplot(color={'medians': 'orange'})\n",
    "plt.title( f'The difference in prediction probabilities\\nbetween Temsorflow and ONNX\\nmodels (based on \"{dataset_name}\" dataset)' )\n",
    "plt.xlabel(\"Predicted Labels\")\n",
    "plt.ylabel(\"Difference in predicted probabilities\")\n",
    "plt.tight_layout()\n",
    "plt.savefig(os.path.join('tmp', f'diff_xgboost.jpg'))"
   ],
   "outputs": [
    {
     "output_type": "display_data",
     "data": {
      "image/png": "[encoded data removed]",
      "text/plain": [
       "<Figure size 432x288 with 1 Axes>"
      ]
     },
     "metadata": {
      "needs_background": "light"
     }
    }
   ],
   "metadata": {}
  }
 ],
 "metadata": {
  "orig_nbformat": 4,
  "language_info": {
   "name": "python",
   "version": "3.8.10",
   "mimetype": "text/x-python",
   "codemirror_mode": {
    "name": "ipython",
    "version": 3
   },
   "pygments_lexer": "ipython3",
   "nbconvert_exporter": "python",
   "file_extension": ".py"
  },
  "kernelspec": {
   "name": "python3",
   "display_name": "Python 3.8.10 64-bit ('.venv': venv)"
  },
  "interpreter": {
   "hash": "5b01ea270aa5259acbf4f8381f599d977e3036a7ea54781fba0ae6d431406d64"
  }
 },
 "nbformat": 4,
 "nbformat_minor": 2
}