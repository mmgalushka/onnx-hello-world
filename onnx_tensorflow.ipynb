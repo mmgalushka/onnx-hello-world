{
 "cells": [
  {
   "cell_type": "markdown",
   "source": [
    "# Tensorflow & ONNX\n",
    "\n",
    "In this tutorial, we investigate a conversion of the [Tensorflow (Keras)](https://www.tensorflow.org/) model to the [ONNX](https://onnx.ai/) format and compare both models. For performing experiments, we selected the \"adult\" classification data set. It contains a combination of numeric and categorical features.\n",
    "\n",
    "But before we start, let's set up our working environment."
   ],
   "metadata": {}
  },
  {
   "cell_type": "code",
   "execution_count": 1,
   "source": [
    "# Let's make a temporary directory for the artifact created by this notebook.\n",
    "import os\n",
    "if not os.path.exists('tmp'):\n",
    "    os.makedirs('tmp')"
   ],
   "outputs": [],
   "metadata": {}
  },
  {
   "cell_type": "markdown",
   "source": [
    "## Prepare Dataset\n",
    "\n",
    "For creating ML models we loaded the \"adult\" dataset and selected the following features:\n",
    "\n",
    "| Feature      | Kind        | Type    | Enforce(*) |\n",
    "| -------------| ----------- | ------- | ---------- |\n",
    "| sepal_length | numeric     | float32 | yes        |\n",
    "| sepal_width  | numeric     | float32 | yes        |\n",
    "| petal_length | numeric     | float32 | yes        |\n",
    "| petal_width  | numeric     | float32 | yes        |\n",
    "\n",
    "(*) We will need to enforce types for features whose original types have been detected differently from our expectations.\n",
    "\n",
    "We forced the conversion of all numeric fields \"sepal_length\", \"sepal_width\", \"petal_length\" and \"petal_width\" from **float64** to **float32**. For our experiments, we do not need this precision."
   ],
   "metadata": {}
  },
  {
   "cell_type": "code",
   "execution_count": 2,
   "source": [
    "import numpy as np\n",
    "from utils import load_dataset\n",
    "\n",
    "# Sets the loading dataset name.\n",
    "dataset_name = 'adult'\n",
    "\n",
    "# Loads the dataset.\n",
    "dataset = load_dataset(dataset_name)\n",
    "\n",
    "dataset.X.dtypes\n",
    "\n",
    "# Selects \"float32\" for the numeric columns.\n",
    "# dataset['sepal_length'] = dataset['sepal_length'].astype(np.float32)\n",
    "# dataset['sepal_width'] = dataset['sepal_width'].astype(np.float32)\n",
    "# dataset['petal_length'] = dataset['petal_length'].astype(np.float32)\n",
    "# dataset['petal_length'] = dataset['petal_length'].astype(np.float32)\n",
    "\n",
    "# Splits data into training (2/3) and test (1/3).\n",
    "# train, test = dataset.train_test_split()\n",
    "\n",
    "# print('Loaded \"%s\" datase:' % dataset_name)\n",
    "# print('   - number of training samples: %d' % len(train))\n",
    "# print('   - number of test samples:     %d' % len(test))\n"
   ],
   "outputs": [
    {
     "output_type": "execute_result",
     "data": {
      "text/plain": [
       "Age               int64\n",
       "fnlwgt            int64\n",
       "EducationNum      int64\n",
       "CapitalGain       int64\n",
       "CapitalLoss       int64\n",
       "HoursPerWeek      int64\n",
       "WorkClass        object\n",
       "Education        object\n",
       "MaritalStatus    object\n",
       "Occupation       object\n",
       "Relationship     object\n",
       "Race             object\n",
       "Gender           object\n",
       "NativeCountry    object\n",
       "dtype: object"
      ]
     },
     "metadata": {},
     "execution_count": 2
    }
   ],
   "metadata": {}
  },
  {
   "cell_type": "code",
   "execution_count": 3,
   "source": [
    "from utils import create_preprocessor\n",
    "from sklearn.model_selection import train_test_split\n",
    "\n",
    "# Creates a data preprocessing pipeline.\n",
    "preprocessor = create_preprocessor(dataset)\n",
    "\n",
    "X = preprocessor.fit_transform(dataset.X).toarray()\n",
    "y = np.where(dataset.y == '>50K',1,0)\n",
    "\n",
    "\n",
    "X_train, X_test, y_train, y_test = train_test_split(\n",
    "    X, y, test_size=0.33, random_state=42\n",
    ")\n"
   ],
   "outputs": [],
   "metadata": {}
  },
  {
   "cell_type": "code",
   "execution_count": 10,
   "source": [
    "X_test.shape"
   ],
   "outputs": [
    {
     "output_type": "execute_result",
     "data": {
      "text/plain": [
       "(10746, 108)"
      ]
     },
     "metadata": {},
     "execution_count": 10
    }
   ],
   "metadata": {}
  },
  {
   "cell_type": "markdown",
   "source": [
    "## Train & Test XGBoost Model\n",
    "\n",
    "First, we need to define the XGBoost classifier."
   ],
   "metadata": {}
  },
  {
   "cell_type": "code",
   "execution_count": 4,
   "source": [
    "from tensorflow.keras.models import Sequential\n",
    "from tensorflow.keras.layers import Dense, Dropout\n",
    "from tensorflow.keras.callbacks import ModelCheckpoint\n",
    "\n",
    "# Builds models in Keras using the Sequential interface.\n",
    "model = Sequential()\n",
    "\n",
    "# Adds a first Dense supplying the input shape of your data.\n",
    "model.add(Dense(100, input_shape=[X_train.shape[1]], activation='relu'))\n",
    "\n",
    "# Adding more Dense layers to learn more complex relationships. \n",
    "# We will Dropout layers to prevent model overfitting.\n",
    "model.add(Dropout(0.2))\n",
    "model.add(Dense(100, activation='relu'))\n",
    "model.add(Dropout(0.2))\n",
    "model.add(Dense(100, activation='relu'))\n",
    "model.add(Dropout(0.2))\n",
    "\n",
    "# Lets use Last Dense layer with the Sigmoid activation (due to the  binary \n",
    "# classification)\n",
    "model.add(Dense(1, activation='sigmoid'))\n",
    "\n",
    "#  Compiles the model and prits its summary.\n",
    "model.compile(optimizer='adam', loss='binary_crossentropy', metrics=['accuracy'])\n",
    "model.summary()"
   ],
   "outputs": [
    {
     "output_type": "stream",
     "name": "stderr",
     "text": [
      "2021-09-08 13:35:28.103017: W tensorflow/stream_executor/platform/default/dso_loader.cc:64] Could not load dynamic library 'libcudart.so.11.0'; dlerror: libcudart.so.11.0: cannot open shared object file: No such file or directory; LD_LIBRARY_PATH: /usr/lib/cuda/include:/usr/lib/cuda/lib64:\n",
      "2021-09-08 13:35:28.103037: I tensorflow/stream_executor/cuda/cudart_stub.cc:29] Ignore above cudart dlerror if you do not have a GPU set up on your machine.\n"
     ]
    },
    {
     "output_type": "stream",
     "name": "stdout",
     "text": [
      "Model: \"sequential\"\n",
      "_________________________________________________________________\n",
      "Layer (type)                 Output Shape              Param #   \n",
      "=================================================================\n",
      "dense (Dense)                (None, 100)               10900     \n",
      "_________________________________________________________________\n",
      "dropout (Dropout)            (None, 100)               0         \n",
      "_________________________________________________________________\n",
      "dense_1 (Dense)              (None, 100)               10100     \n",
      "_________________________________________________________________\n",
      "dropout_1 (Dropout)          (None, 100)               0         \n",
      "_________________________________________________________________\n",
      "dense_2 (Dense)              (None, 100)               10100     \n",
      "_________________________________________________________________\n",
      "dropout_2 (Dropout)          (None, 100)               0         \n",
      "_________________________________________________________________\n",
      "dense_3 (Dense)              (None, 1)                 101       \n",
      "=================================================================\n",
      "Total params: 31,201\n",
      "Trainable params: 31,201\n",
      "Non-trainable params: 0\n",
      "_________________________________________________________________\n"
     ]
    },
    {
     "output_type": "stream",
     "name": "stderr",
     "text": [
      "2021-09-08 13:35:29.302478: I tensorflow/stream_executor/cuda/cuda_gpu_executor.cc:937] successful NUMA node read from SysFS had negative value (-1), but there must be at least one NUMA node, so returning NUMA node zero\n",
      "2021-09-08 13:35:29.302831: W tensorflow/stream_executor/platform/default/dso_loader.cc:64] Could not load dynamic library 'libcudart.so.11.0'; dlerror: libcudart.so.11.0: cannot open shared object file: No such file or directory; LD_LIBRARY_PATH: /usr/lib/cuda/include:/usr/lib/cuda/lib64:\n",
      "2021-09-08 13:35:29.302933: W tensorflow/stream_executor/platform/default/dso_loader.cc:64] Could not load dynamic library 'libcublas.so.11'; dlerror: libcublas.so.11: cannot open shared object file: No such file or directory; LD_LIBRARY_PATH: /usr/lib/cuda/include:/usr/lib/cuda/lib64:\n",
      "2021-09-08 13:35:29.303000: W tensorflow/stream_executor/platform/default/dso_loader.cc:64] Could not load dynamic library 'libcublasLt.so.11'; dlerror: libcublasLt.so.11: cannot open shared object file: No such file or directory; LD_LIBRARY_PATH: /usr/lib/cuda/include:/usr/lib/cuda/lib64:\n",
      "2021-09-08 13:35:29.304877: W tensorflow/stream_executor/platform/default/dso_loader.cc:64] Could not load dynamic library 'libcusolver.so.11'; dlerror: libcusolver.so.11: cannot open shared object file: No such file or directory; LD_LIBRARY_PATH: /usr/lib/cuda/include:/usr/lib/cuda/lib64:\n",
      "2021-09-08 13:35:29.304955: W tensorflow/stream_executor/platform/default/dso_loader.cc:64] Could not load dynamic library 'libcusparse.so.11'; dlerror: libcusparse.so.11: cannot open shared object file: No such file or directory; LD_LIBRARY_PATH: /usr/lib/cuda/include:/usr/lib/cuda/lib64:\n",
      "2021-09-08 13:35:29.305081: W tensorflow/core/common_runtime/gpu/gpu_device.cc:1835] Cannot dlopen some GPU libraries. Please make sure the missing libraries mentioned above are installed properly if you would like to use GPU. Follow the guide at https://www.tensorflow.org/install/gpu for how to download and setup the required libraries for your platform.\n",
      "Skipping registering GPU devices...\n",
      "2021-09-08 13:35:29.305323: I tensorflow/core/platform/cpu_feature_guard.cc:142] This TensorFlow binary is optimized with oneAPI Deep Neural Network Library (oneDNN) to use the following CPU instructions in performance-critical operations:  AVX2 FMA\n",
      "To enable them in other operations, rebuild TensorFlow with the appropriate compiler flags.\n"
     ]
    }
   ],
   "metadata": {}
  },
  {
   "cell_type": "markdown",
   "source": [
    "Then we create a training pipeline that combines data preprocessor and classifier. The data preprocessor provides steps for handling numeric features. For more information, please review the utility function **create_preprocessor** in the **utils** module.\n",
    "\n",
    "**Please note**, our goal for this tutorial is not to create the best classification model for the \"iris\" dataset. So we will not focus on picking the best feature and optimizing hyperparameters of the different classifiers. Our goal is to learn more about ONNX! :wink:\n",
    "\n",
    "The trained ML model showed an accuracy of **100%**. "
   ],
   "metadata": {}
  },
  {
   "cell_type": "code",
   "execution_count": 5,
   "source": [
    "from sklearn.metrics import accuracy_score\n",
    "\n",
    "# Trains the Tenserflow (Keras) model.\n",
    "model.fit(X_train, y_train, batch_size=64, epochs=20, verbose=1, \n",
    "          validation_data=(X_test,y_test))\n",
    "\n",
    "# Uses the model for scoring.\n",
    "y_tensorflow_probas = model.predict(X_test)  # collects the prediction probabilities;\n",
    "y_tensorflow_pred = np.argmax(y_tensorflow_probas,axis=1)        # collects the predicted labels;\n",
    "\n",
    "# Just for convenience name the test.y labels as the ground truth.\n",
    "y_true = y_test\n",
    "\n",
    "print(y_true)\n",
    "print(y_tensorflow_pred)\n",
    "\n",
    "# Computes the accuracy score.\n",
    "tensorflow_accuracy = accuracy_score(y_true, y_tensorflow_pred)\n",
    "print('The model accuracy: %.2f' % tensorflow_accuracy)"
   ],
   "outputs": [
    {
     "output_type": "stream",
     "name": "stderr",
     "text": [
      "2021-09-08 13:35:32.491539: I tensorflow/compiler/mlir/mlir_graph_optimization_pass.cc:185] None of the MLIR Optimization Passes are enabled (registered 2)\n"
     ]
    },
    {
     "output_type": "stream",
     "name": "stdout",
     "text": [
      "Epoch 1/20\n",
      "341/341 [==============================] - 1s 2ms/step - loss: 0.3561 - accuracy: 0.8313 - val_loss: 0.3111 - val_accuracy: 0.8562\n",
      "Epoch 2/20\n",
      "341/341 [==============================] - 0s 1ms/step - loss: 0.3171 - accuracy: 0.8522 - val_loss: 0.3074 - val_accuracy: 0.8590\n",
      "Epoch 3/20\n",
      "341/341 [==============================] - 0s 1ms/step - loss: 0.3119 - accuracy: 0.8561 - val_loss: 0.3096 - val_accuracy: 0.8586\n",
      "Epoch 4/20\n",
      "341/341 [==============================] - 1s 2ms/step - loss: 0.3074 - accuracy: 0.8586 - val_loss: 0.3099 - val_accuracy: 0.8578\n",
      "Epoch 5/20\n",
      "341/341 [==============================] - 1s 2ms/step - loss: 0.3019 - accuracy: 0.8610 - val_loss: 0.3095 - val_accuracy: 0.8569\n",
      "Epoch 6/20\n",
      "341/341 [==============================] - 0s 1ms/step - loss: 0.2993 - accuracy: 0.8611 - val_loss: 0.3115 - val_accuracy: 0.8565\n",
      "Epoch 7/20\n",
      "341/341 [==============================] - 1s 2ms/step - loss: 0.2972 - accuracy: 0.8656 - val_loss: 0.3142 - val_accuracy: 0.8534\n",
      "Epoch 8/20\n",
      "341/341 [==============================] - 1s 2ms/step - loss: 0.2938 - accuracy: 0.8640 - val_loss: 0.3144 - val_accuracy: 0.8559\n",
      "Epoch 9/20\n",
      "341/341 [==============================] - 0s 1ms/step - loss: 0.2914 - accuracy: 0.8658 - val_loss: 0.3165 - val_accuracy: 0.8549\n",
      "Epoch 10/20\n",
      "341/341 [==============================] - 0s 1ms/step - loss: 0.2891 - accuracy: 0.8657 - val_loss: 0.3139 - val_accuracy: 0.8567\n",
      "Epoch 11/20\n",
      "341/341 [==============================] - 0s 1ms/step - loss: 0.2858 - accuracy: 0.8705 - val_loss: 0.3177 - val_accuracy: 0.8561\n",
      "Epoch 12/20\n",
      "341/341 [==============================] - 1s 2ms/step - loss: 0.2828 - accuracy: 0.8700 - val_loss: 0.3210 - val_accuracy: 0.8548\n",
      "Epoch 13/20\n",
      "341/341 [==============================] - 1s 2ms/step - loss: 0.2823 - accuracy: 0.8702 - val_loss: 0.3193 - val_accuracy: 0.8543\n",
      "Epoch 14/20\n",
      "341/341 [==============================] - 1s 2ms/step - loss: 0.2779 - accuracy: 0.8713 - val_loss: 0.3278 - val_accuracy: 0.8553\n",
      "Epoch 15/20\n",
      "341/341 [==============================] - 1s 2ms/step - loss: 0.2749 - accuracy: 0.8719 - val_loss: 0.3262 - val_accuracy: 0.8539\n",
      "Epoch 16/20\n",
      "341/341 [==============================] - 0s 1ms/step - loss: 0.2732 - accuracy: 0.8738 - val_loss: 0.3327 - val_accuracy: 0.8548\n",
      "Epoch 17/20\n",
      "341/341 [==============================] - 0s 1ms/step - loss: 0.2697 - accuracy: 0.8740 - val_loss: 0.3288 - val_accuracy: 0.8539\n",
      "Epoch 18/20\n",
      "341/341 [==============================] - 0s 1ms/step - loss: 0.2673 - accuracy: 0.8757 - val_loss: 0.3296 - val_accuracy: 0.8528\n",
      "Epoch 19/20\n",
      "341/341 [==============================] - 1s 1ms/step - loss: 0.2644 - accuracy: 0.8779 - val_loss: 0.3359 - val_accuracy: 0.8519\n",
      "Epoch 20/20\n",
      "341/341 [==============================] - 0s 1ms/step - loss: 0.2659 - accuracy: 0.8770 - val_loss: 0.3412 - val_accuracy: 0.8523\n",
      "[0 0 1 ... 0 0 0]\n",
      "[0 0 0 ... 0 0 0]\n",
      "The model accuracy: 0.76\n"
     ]
    }
   ],
   "metadata": {}
  },
  {
   "cell_type": "markdown",
   "source": [
    "## Convert Model To ONNX\n",
    "\n",
    "Next, we need to convert the XGBoost model into the ONNX format and serialize it to the file. The conversion process is done by the **convert_sklearn** function. However, before calling this function, we need to register the [XGBoost convertor](https://github.com/onnx/onnxmltools). The rest of the process is the same as for [SKLearn notebook](onnx_sklearn.ipynb).\n",
    "\n",
    "One important aspect you need to focus on is setting correct input types. To do that we provided the utility function **get_onnx_input_type** defined in the **utils** module. It takes the training dataset and uses it to guess ONNX input types. This function has meant to be generic, so we can reuse it in different notebooks. In practice, you can optimize the input types to feet your data."
   ],
   "metadata": {}
  },
  {
   "cell_type": "code",
   "execution_count": 12,
   "source": [
    "from tensorflow import keras\n",
    "import tf2onnx.convert\n",
    "\n",
    "model.save('tmp/xxx.h5', overwrite=True, include_optimizer=False, save_format='tf')\n",
    "model = keras.models.load_model('tmp/xxx.h5')\n",
    "onnx_model, _ = tf2onnx.convert.from_keras(model)\n",
    "\n",
    "\n",
    "# # Converts the model to the ONNX format.\n",
    "onnx_filename = 'model.onnx'\n",
    "# # onnx_model = convert_keras(model, 'aaa')\n",
    "\n",
    "# Serializes the ONNX model to the file.\n",
    "with open(os.path.join('tmp', onnx_filename), \"wb\") as f:\n",
    "    f.write(onnx_model.SerializeToString())\n",
    "    print('The ONNX model has been successfully saved in \"model.onnx\" file.')"
   ],
   "outputs": [
    {
     "output_type": "stream",
     "name": "stdout",
     "text": [
      "WARNING:tensorflow:Compiled the loaded model, but the compiled metrics have yet to be built. `model.compile_metrics` will be empty until you train or evaluate the model.\n",
      "WARNING:tensorflow:No training configuration found in the save file, so the model was *not* compiled. Compile it manually.\n",
      "The ONNX model has been successfully saved in \"model.onnx\" file.\n"
     ]
    },
    {
     "output_type": "stream",
     "name": "stderr",
     "text": [
      "2021-09-08 13:39:27.376059: I tensorflow/stream_executor/cuda/cuda_gpu_executor.cc:937] successful NUMA node read from SysFS had negative value (-1), but there must be at least one NUMA node, so returning NUMA node zero\n",
      "2021-09-08 13:39:27.376426: I tensorflow/core/grappler/devices.cc:66] Number of eligible GPUs (core count >= 8, compute capability >= 0.0): 1\n",
      "2021-09-08 13:39:27.376504: I tensorflow/core/grappler/clusters/single_machine.cc:357] Starting new session\n",
      "2021-09-08 13:39:27.376939: I tensorflow/stream_executor/cuda/cuda_gpu_executor.cc:937] successful NUMA node read from SysFS had negative value (-1), but there must be at least one NUMA node, so returning NUMA node zero\n",
      "2021-09-08 13:39:27.377233: W tensorflow/core/common_runtime/gpu/gpu_device.cc:1835] Cannot dlopen some GPU libraries. Please make sure the missing libraries mentioned above are installed properly if you would like to use GPU. Follow the guide at https://www.tensorflow.org/install/gpu for how to download and setup the required libraries for your platform.\n",
      "Skipping registering GPU devices...\n",
      "2021-09-08 13:39:27.378185: I tensorflow/core/grappler/optimizers/meta_optimizer.cc:1137] Optimization results for grappler item: graph_to_optimize\n",
      "  function_optimizer: function_optimizer did nothing. time = 0.038ms.\n",
      "  function_optimizer: function_optimizer did nothing. time = 0.001ms.\n",
      "\n",
      "2021-09-08 13:39:27.427982: I tensorflow/stream_executor/cuda/cuda_gpu_executor.cc:937] successful NUMA node read from SysFS had negative value (-1), but there must be at least one NUMA node, so returning NUMA node zero\n",
      "2021-09-08 13:39:27.428364: I tensorflow/core/grappler/devices.cc:66] Number of eligible GPUs (core count >= 8, compute capability >= 0.0): 1\n",
      "2021-09-08 13:39:27.428442: I tensorflow/core/grappler/clusters/single_machine.cc:357] Starting new session\n",
      "2021-09-08 13:39:27.429056: I tensorflow/stream_executor/cuda/cuda_gpu_executor.cc:937] successful NUMA node read from SysFS had negative value (-1), but there must be at least one NUMA node, so returning NUMA node zero\n",
      "2021-09-08 13:39:27.429350: W tensorflow/core/common_runtime/gpu/gpu_device.cc:1835] Cannot dlopen some GPU libraries. Please make sure the missing libraries mentioned above are installed properly if you would like to use GPU. Follow the guide at https://www.tensorflow.org/install/gpu for how to download and setup the required libraries for your platform.\n",
      "Skipping registering GPU devices...\n",
      "2021-09-08 13:39:27.432474: I tensorflow/core/grappler/optimizers/meta_optimizer.cc:1137] Optimization results for grappler item: graph_to_optimize\n",
      "  constant_folding: Graph size after: 26 nodes (-8), 33 edges (-8), time = 1.312ms.\n",
      "  function_optimizer: function_optimizer did nothing. time = 0.027ms.\n",
      "  constant_folding: Graph size after: 26 nodes (0), 33 edges (0), time = 0.397ms.\n",
      "  function_optimizer: function_optimizer did nothing. time = 0.013ms.\n",
      "\n"
     ]
    }
   ],
   "metadata": {}
  },
  {
   "cell_type": "markdown",
   "source": [
    "## Load & Test ONNX Model\n",
    "\n",
    "To load the model, we just need to specify its file name in the runtime. \n",
    "\n",
    "```Python\n",
    "sess = rt.InferenceSession(os.path.join('tmp', onnx_filename))\n",
    "```\n",
    "\n",
    "Unfortunately, we cannot use the test Pandas data frame directly for inference. The data entering the ONNX model has to be transformed in a slightly different format. To perform this transformation we are using the **get_onnx_input_data** function defined in the **utils** module. This function converts the Pandas data frame:\n",
    "\n",
    "```\n",
    "     sepal_length  sepal_width  petal_length  petal_width\n",
    "73            6.1          2.8           4.7          1.2\n",
    "18            5.7          3.8           1.7          0.3\n",
    "118           7.7          2.6           6.9          2.3\n",
    "78            6.0          2.9           4.5          1.5\n",
    "76            6.8          2.8           4.8          1.4\n",
    "..            ...          ...           ...          ...\n",
    "81            5.5          2.4           3.7          1.0\n",
    "133           6.3          2.8           5.1          1.5\n",
    "137           6.4          3.1           5.5          1.8\n",
    "75            6.6          3.0           4.4          1.4\n",
    "109           7.2          3.6           6.1          2.5\n",
    "```\n",
    "\n",
    "in the following dictionary:\n",
    "\n",
    "```\n",
    "{\n",
    "    'sepal_length': array([\n",
    "        [6.1],\n",
    "        [5.7],\n",
    "        [7.7],\n",
    "        [6. ],\n",
    "        [6.8],\n",
    "        ...\n",
    "        [7.2]], dtype=float32), \n",
    "    'sepal_width': array([\n",
    "        [[2.8],\n",
    "        [3.8],\n",
    "        [2.6],\n",
    "        [2.9],\n",
    "        [2.8],\n",
    "        ...\n",
    "        [3.6]], dtype=float32),\n",
    "    'petal_length': array([\n",
    "        [4.7],\n",
    "        [1.7],\n",
    "        [6.9],\n",
    "        [4.5],\n",
    "        [4.8],\n",
    "        ...\n",
    "        [6.1]], dtype=float32),\n",
    "    'petal_width': array(\n",
    "        [[1.2],\n",
    "        [0.3],\n",
    "        [2.3],\n",
    "        [1.5],\n",
    "        [1.4],\n",
    "        ...\n",
    "        [2.5]], dtype=float32)\n",
    "}\n",
    "```\n",
    "\n",
    "The ONNX model uses this dictionary for inference. From the experiment, we got the accuracy of the ONNX model 100%, which is the same as the original XGBoost model. So we can conclude that both models have the same performance."
   ],
   "metadata": {}
  },
  {
   "cell_type": "code",
   "execution_count": 42,
   "source": [
    "X_test.dtype"
   ],
   "outputs": [
    {
     "output_type": "execute_result",
     "data": {
      "text/plain": [
       "dtype('float32')"
      ]
     },
     "metadata": {},
     "execution_count": 42
    }
   ],
   "metadata": {}
  },
  {
   "cell_type": "code",
   "execution_count": 13,
   "source": [
    "import onnxruntime as rt\n",
    "\n",
    "sess = rt.InferenceSession(os.path.join('tmp', onnx_filename))\n",
    "X_test = X_test.astype(np.float32)\n",
    "\n",
    "feed = dict([(input.name, X_test[n]) for n, input in enumerate(sess.get_inputs())])\n",
    "\n",
    "\n",
    "y_onnx_pred, y_onnx_probas = sess.run(None, feed)\n",
    "# onnx_accuracy = accuracy_score(test.y, y_onnx_pred)\n",
    "# print('The ONNX model accuracy: %.2f' % onnx_accuracy)"
   ],
   "outputs": [
    {
     "output_type": "error",
     "ename": "InvalidArgument",
     "evalue": "[ONNXRuntimeError] : 2 : INVALID_ARGUMENT : Invalid rank for input: dense_input Got: 1 Expected: 2 Please fix either the inputs or the model.",
     "traceback": [
      "\u001b[0;31m---------------------------------------------------------------------------\u001b[0m",
      "\u001b[0;31mInvalidArgument\u001b[0m                           Traceback (most recent call last)",
      "\u001b[0;32m/tmp/ipykernel_24692/2024688756.py\u001b[0m in \u001b[0;36m<module>\u001b[0;34m\u001b[0m\n\u001b[1;32m      7\u001b[0m \u001b[0;34m\u001b[0m\u001b[0m\n\u001b[1;32m      8\u001b[0m \u001b[0;34m\u001b[0m\u001b[0m\n\u001b[0;32m----> 9\u001b[0;31m \u001b[0my_onnx_pred\u001b[0m\u001b[0;34m,\u001b[0m \u001b[0my_onnx_probas\u001b[0m \u001b[0;34m=\u001b[0m \u001b[0msess\u001b[0m\u001b[0;34m.\u001b[0m\u001b[0mrun\u001b[0m\u001b[0;34m(\u001b[0m\u001b[0;32mNone\u001b[0m\u001b[0;34m,\u001b[0m \u001b[0mfeed\u001b[0m\u001b[0;34m)\u001b[0m\u001b[0;34m\u001b[0m\u001b[0;34m\u001b[0m\u001b[0m\n\u001b[0m\u001b[1;32m     10\u001b[0m \u001b[0;31m# onnx_accuracy = accuracy_score(test.y, y_onnx_pred)\u001b[0m\u001b[0;34m\u001b[0m\u001b[0;34m\u001b[0m\u001b[0;34m\u001b[0m\u001b[0m\n\u001b[1;32m     11\u001b[0m \u001b[0;31m# print('The ONNX model accuracy: %.2f' % onnx_accuracy)\u001b[0m\u001b[0;34m\u001b[0m\u001b[0;34m\u001b[0m\u001b[0;34m\u001b[0m\u001b[0m\n",
      "\u001b[0;32m~/Projects/onnx-hello-world/.venv/lib/python3.8/site-packages/onnxruntime/capi/onnxruntime_inference_collection.py\u001b[0m in \u001b[0;36mrun\u001b[0;34m(self, output_names, input_feed, run_options)\u001b[0m\n\u001b[1;32m    186\u001b[0m             \u001b[0moutput_names\u001b[0m \u001b[0;34m=\u001b[0m \u001b[0;34m[\u001b[0m\u001b[0moutput\u001b[0m\u001b[0;34m.\u001b[0m\u001b[0mname\u001b[0m \u001b[0;32mfor\u001b[0m \u001b[0moutput\u001b[0m \u001b[0;32min\u001b[0m \u001b[0mself\u001b[0m\u001b[0;34m.\u001b[0m\u001b[0m_outputs_meta\u001b[0m\u001b[0;34m]\u001b[0m\u001b[0;34m\u001b[0m\u001b[0;34m\u001b[0m\u001b[0m\n\u001b[1;32m    187\u001b[0m         \u001b[0;32mtry\u001b[0m\u001b[0;34m:\u001b[0m\u001b[0;34m\u001b[0m\u001b[0;34m\u001b[0m\u001b[0m\n\u001b[0;32m--> 188\u001b[0;31m             \u001b[0;32mreturn\u001b[0m \u001b[0mself\u001b[0m\u001b[0;34m.\u001b[0m\u001b[0m_sess\u001b[0m\u001b[0;34m.\u001b[0m\u001b[0mrun\u001b[0m\u001b[0;34m(\u001b[0m\u001b[0moutput_names\u001b[0m\u001b[0;34m,\u001b[0m \u001b[0minput_feed\u001b[0m\u001b[0;34m,\u001b[0m \u001b[0mrun_options\u001b[0m\u001b[0;34m)\u001b[0m\u001b[0;34m\u001b[0m\u001b[0;34m\u001b[0m\u001b[0m\n\u001b[0m\u001b[1;32m    189\u001b[0m         \u001b[0;32mexcept\u001b[0m \u001b[0mC\u001b[0m\u001b[0;34m.\u001b[0m\u001b[0mEPFail\u001b[0m \u001b[0;32mas\u001b[0m \u001b[0merr\u001b[0m\u001b[0;34m:\u001b[0m\u001b[0;34m\u001b[0m\u001b[0;34m\u001b[0m\u001b[0m\n\u001b[1;32m    190\u001b[0m             \u001b[0;32mif\u001b[0m \u001b[0mself\u001b[0m\u001b[0;34m.\u001b[0m\u001b[0m_enable_fallback\u001b[0m\u001b[0;34m:\u001b[0m\u001b[0;34m\u001b[0m\u001b[0;34m\u001b[0m\u001b[0m\n",
      "\u001b[0;31mInvalidArgument\u001b[0m: [ONNXRuntimeError] : 2 : INVALID_ARGUMENT : Invalid rank for input: dense_input Got: 1 Expected: 2 Please fix either the inputs or the model."
     ]
    }
   ],
   "metadata": {}
  },
  {
   "cell_type": "markdown",
   "source": [
    "## Compare XGBoost & ONNX Models \n",
    "\n",
    "Even we did not detect any difference between XGBoost and ONNX models' accuracies, let's visualize the confusion matrix. In this confusion matrix, we will consider the predictions generated by the XGBoost model as ground truth (GT)."
   ],
   "metadata": {}
  },
  {
   "cell_type": "code",
   "execution_count": null,
   "source": [
    "import seaborn as sn\n",
    "import pandas as pd\n",
    "import matplotlib.pyplot as plt\n",
    "\n",
    "from sklearn.metrics import confusion_matrix\n",
    "\n",
    "# Creates the confusion matrix.\n",
    "cm = confusion_matrix(y_xgboost_pred, y_onnx_pred)\n",
    "df_cm = pd.DataFrame(cm, range(3), range(3))\n",
    "\n",
    "# Makes a confusion matrix plot.\n",
    "fig, ax = plt.subplots(figsize=(5,5))\n",
    "sn.heatmap(df_cm, annot=True, fmt='d', ax=ax)\n",
    "ax.set_title( f'Confusion matrix between XGBboost and\\nONNX models predictions, where\\nXGBoost is considered as ground truth\\n(based on \"{dataset_name}\" dataset)' )\n",
    "ax.set_xlabel(\"ONNX Model Predictions\")\n",
    "ax.set_ylabel(\"XGBoost Model Predictions (GT)\")\n",
    "plt.tight_layout()"
   ],
   "outputs": [
    {
     "output_type": "display_data",
     "data": {
      "image/png": "[encoded data removed]",
      "text/plain": [
       "<Figure size 360x360 with 2 Axes>"
      ]
     },
     "metadata": {
      "needs_background": "light"
     }
    }
   ],
   "metadata": {}
  },
  {
   "cell_type": "markdown",
   "source": [
    "Despite the same accuracy, we expect some differences in prediction probabilities. To visualize these differences, we substruct  ONNX probabilities from XGBoost probabilities and then plot the distribution of differences using a box plot."
   ],
   "metadata": {}
  },
  {
   "cell_type": "code",
   "execution_count": null,
   "source": [
    "print(dataset.y)"
   ],
   "outputs": [
    {
     "output_type": "stream",
     "name": "stdout",
     "text": [
      "0         setosa\n",
      "1         setosa\n",
      "2         setosa\n",
      "3         setosa\n",
      "4         setosa\n",
      "         ...    \n",
      "145    virginica\n",
      "146    virginica\n",
      "147    virginica\n",
      "148    virginica\n",
      "149    virginica\n",
      "Name: species, Length: 150, dtype: object\n"
     ]
    }
   ],
   "metadata": {}
  },
  {
   "cell_type": "code",
   "execution_count": null,
   "source": [
    "# Convert XGBoost and ONNX probabilities into Pandas data frame. This will\n",
    "# help us to perform mathematical operations later.\n",
    "df_xgboost_probas = pd.DataFrame(y_xgboost_probas, columns=model.classes_)\n",
    "df_onnx_probas = pd.DataFrame(y_onnx_probas, columns=model.classes_)\n",
    "\n",
    "# Computes a difference between XGBoost and ONNX probabilities.\n",
    "df_diff = df_xgboost_probas - df_onnx_probas\n",
    "\n",
    "# Makes a Box plot.\n",
    "poxplot = df_diff.boxplot(color={'medians': 'orange'})\n",
    "plt.title( f'The difference in prediction probabilities\\nbetween XGBoost and ONNX\\nmodels (based on \"{dataset_name}\" dataset)' )\n",
    "plt.xlabel(\"Predicted Labels\")\n",
    "plt.ylabel(\"Difference in predicted probabilities\")\n",
    "plt.tight_layout()\n",
    "plt.savefig(os.path.join('tmp', f'diff_xgboost.jpg'))"
   ],
   "outputs": [
    {
     "output_type": "display_data",
     "data": {
      "image/png": "[encoded data removed]",
      "text/plain": [
       "<Figure size 432x288 with 1 Axes>"
      ]
     },
     "metadata": {
      "needs_background": "light"
     }
    }
   ],
   "metadata": {}
  }
 ],
 "metadata": {
  "orig_nbformat": 4,
  "language_info": {
   "name": "python",
   "version": "3.8.10",
   "mimetype": "text/x-python",
   "codemirror_mode": {
    "name": "ipython",
    "version": 3
   },
   "pygments_lexer": "ipython3",
   "nbconvert_exporter": "python",
   "file_extension": ".py"
  },
  "kernelspec": {
   "name": "python3",
   "display_name": "Python 3.8.10 64-bit ('.venv': venv)"
  },
  "interpreter": {
   "hash": "5b01ea270aa5259acbf4f8381f599d977e3036a7ea54781fba0ae6d431406d64"
  }
 },
 "nbformat": 4,
 "nbformat_minor": 2
}