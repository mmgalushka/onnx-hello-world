{
 "cells": [
  {
   "cell_type": "markdown",
   "source": [
    "# Tensorflow(Keras) & ONNX\n",
    "\n",
    "In this tutorial, we investigate a conversion of the [Tensorflow (Keras)](https://www.tensorflow.org/) model to the [ONNX](https://onnx.ai/) format and compare both models. For performing this experiment, we selected the \"adult\" classification data set. It contains a combination of numeric and categorical features."
   ],
   "metadata": {}
  },
  {
   "cell_type": "markdown",
   "source": [
    "## Setup Environment\n",
    "\n",
    "But before we start, let's set up our working environment. It will help us to keep the project directory clean. All artifacts generated within the project will be placed to the \"tmp\" dir and will be ignored by Git."
   ],
   "metadata": {}
  },
  {
   "cell_type": "code",
   "execution_count": 1,
   "source": [
    "# Let's make a temporary directory for all artifacts created by this notebook.\n",
    "import os\n",
    "if not os.path.exists('tmp'):\n",
    "    os.makedirs('tmp')"
   ],
   "outputs": [],
   "metadata": {}
  },
  {
   "cell_type": "markdown",
   "source": [
    "## Prepare Dataset\n",
    "\n",
    "For creating the ML model we are loading the \"adult\" dataset and selecting the following features:\n",
    "\n",
    "| Feature      | Kind        | Type    | Enforce(*) |\n",
    "| -------------| ----------- | ------- | ---------- |\n",
    "| Age          | numeric     | int64   | no         |\n",
    "| fnlwgt       | numeric     | int64   | no         |\n",
    "| EducationNum | numeric     | int64   | no         |\n",
    "| CapitalGain  | numeric     | int64   | no         |\n",
    "| CapitalLoss  | numeric     | int64   | no         |\n",
    "| HoursPerWeek | numeric     | int64   | no         |\n",
    "| WorkClass    | categorical | object  | no         |\n",
    "| Education    | categorical | object  | no         |\n",
    "| MaritalStatus| categorical | object  | no         |\n",
    "| Occupation   | categorical | object  | no         |\n",
    "| Relationship | categorical | object  | no         |\n",
    "| Race         | categorical | object  | no         |\n",
    "| Gender       | categorical | object  | no         |\n",
    "| NativeCountry| categorical | object  | no         |\n",
    "\n",
    "(*) We will enforce types for features whose original types have been detected differently from our expectations.\n",
    "\n",
    "For this dataset, all types are detected correctly and not enforcement is needed."
   ],
   "metadata": {}
  },
  {
   "cell_type": "code",
   "execution_count": 2,
   "source": [
    "import numpy as np\n",
    "from utils import load_dataset\n",
    "\n",
    "# Sets the loading dataset name.\n",
    "dataset_name = 'adult'\n",
    "\n",
    "# Loads the dataset.\n",
    "dataset = load_dataset(dataset_name)"
   ],
   "outputs": [],
   "metadata": {}
  },
  {
   "cell_type": "markdown",
   "source": [
    "Unfortunately in this experiment, we can not use the processing pipeline as in SKLearn and XGBoost notebooks. We need manually transform input and output features, and adjust their type. Part of this process we can do with the feel of our data preprocessing function. Fo the rest we will use Numpy functions."
   ],
   "metadata": {}
  },
  {
   "cell_type": "code",
   "execution_count": 3,
   "source": [
    "from utils import create_preprocessor\n",
    "from sklearn.model_selection import train_test_split\n",
    "\n",
    "# Creates a data preprocessing pipeline.\n",
    "preprocessor = create_preprocessor(dataset)\n",
    "\n",
    "# The following code: \n",
    "#    1) Normalizes the numeric and encodes the categorical features; \n",
    "#    2) Converts the sparse matrix into the normal 2d array;\n",
    "#    3) Transforms all array values to \"float32\";\n",
    "X = preprocessor.fit_transform(dataset.X).toarray().astype(np.float32)\n",
    "\n",
    "# Here we need to transform the \"string\" definition to \"int32\" for the\n",
    "# target feature.\n",
    "y = np.array([[0,1] if v == '>50K' else [1,0] for v in dataset.y])\n",
    "\n",
    "# Makes data split.\n",
    "X_train, X_test, y_train, y_test = train_test_split(\n",
    "    X, y, test_size=0.33, random_state=42\n",
    ")\n",
    "\n",
    "print('Loaded \"%s\" datase:' % dataset_name)\n",
    "print('   - number of training samples: %s' % str(X_train.shape))\n",
    "print('   - number of test samples:     %s' % str(X_test.shape))"
   ],
   "outputs": [
    {
     "output_type": "stream",
     "name": "stdout",
     "text": [
      "Loaded \"adult\" datase:\n",
      "   - number of training samples: (21815, 108)\n",
      "   - number of test samples:     (10746, 108)\n"
     ]
    }
   ],
   "metadata": {}
  },
  {
   "cell_type": "markdown",
   "source": [
    "## Train & Test Tensorflow(Keras) Model\n",
    "\n",
    "Let's define the topology of the classification model using Keras layers."
   ],
   "metadata": {}
  },
  {
   "cell_type": "code",
   "execution_count": 4,
   "source": [
    "from tensorflow.keras.models import Sequential\n",
    "from tensorflow.keras.layers import Dense, Dropout\n",
    "\n",
    "# Builds models in Keras using the Sequential interface.\n",
    "model = Sequential()\n",
    "\n",
    "# Adds a first Dense supplying the input shape of your data.\n",
    "model.add(Dense(100, input_shape=[X_train.shape[1]], activation='relu'))\n",
    "\n",
    "# Adding more Dense layers to learn more complex relationships. \n",
    "# We will Dropout layers to prevent model overfitting.\n",
    "model.add(Dropout(0.2))\n",
    "model.add(Dense(100, activation='relu'))\n",
    "model.add(Dropout(0.2))\n",
    "model.add(Dense(100, activation='relu'))\n",
    "model.add(Dropout(0.2))\n",
    "\n",
    "# Lets use Last Dense layer with the Sigmoid activation (due to the  binary \n",
    "# classification)\n",
    "model.add(Dense(2, activation='softmax'))\n",
    "\n",
    "#  Compiles the model and prints its summary.\n",
    "model.compile(optimizer='adam', loss='categorical_crossentropy', metrics=['accuracy'])\n",
    "model.summary()"
   ],
   "outputs": [
    {
     "output_type": "stream",
     "name": "stderr",
     "text": [
      "2021-09-08 22:51:23.380026: W tensorflow/stream_executor/platform/default/dso_loader.cc:64] Could not load dynamic library 'libcudart.so.11.0'; dlerror: libcudart.so.11.0: cannot open shared object file: No such file or directory; LD_LIBRARY_PATH: /usr/lib/cuda/include:/usr/lib/cuda/lib64:\n",
      "2021-09-08 22:51:23.380059: I tensorflow/stream_executor/cuda/cudart_stub.cc:29] Ignore above cudart dlerror if you do not have a GPU set up on your machine.\n"
     ]
    },
    {
     "output_type": "stream",
     "name": "stdout",
     "text": [
      "Model: \"sequential\"\n",
      "_________________________________________________________________\n",
      "Layer (type)                 Output Shape              Param #   \n",
      "=================================================================\n",
      "dense (Dense)                (None, 100)               10900     \n",
      "_________________________________________________________________\n",
      "dropout (Dropout)            (None, 100)               0         \n",
      "_________________________________________________________________\n",
      "dense_1 (Dense)              (None, 100)               10100     \n",
      "_________________________________________________________________\n",
      "dropout_1 (Dropout)          (None, 100)               0         \n",
      "_________________________________________________________________\n",
      "dense_2 (Dense)              (None, 100)               10100     \n",
      "_________________________________________________________________\n",
      "dropout_2 (Dropout)          (None, 100)               0         \n",
      "_________________________________________________________________\n",
      "dense_3 (Dense)              (None, 2)                 202       \n",
      "=================================================================\n",
      "Total params: 31,302\n",
      "Trainable params: 31,302\n",
      "Non-trainable params: 0\n",
      "_________________________________________________________________\n"
     ]
    },
    {
     "output_type": "stream",
     "name": "stderr",
     "text": [
      "2021-09-08 22:51:24.637136: I tensorflow/stream_executor/cuda/cuda_gpu_executor.cc:937] successful NUMA node read from SysFS had negative value (-1), but there must be at least one NUMA node, so returning NUMA node zero\n",
      "2021-09-08 22:51:24.637530: W tensorflow/stream_executor/platform/default/dso_loader.cc:64] Could not load dynamic library 'libcudart.so.11.0'; dlerror: libcudart.so.11.0: cannot open shared object file: No such file or directory; LD_LIBRARY_PATH: /usr/lib/cuda/include:/usr/lib/cuda/lib64:\n",
      "2021-09-08 22:51:24.637599: W tensorflow/stream_executor/platform/default/dso_loader.cc:64] Could not load dynamic library 'libcublas.so.11'; dlerror: libcublas.so.11: cannot open shared object file: No such file or directory; LD_LIBRARY_PATH: /usr/lib/cuda/include:/usr/lib/cuda/lib64:\n",
      "2021-09-08 22:51:24.637662: W tensorflow/stream_executor/platform/default/dso_loader.cc:64] Could not load dynamic library 'libcublasLt.so.11'; dlerror: libcublasLt.so.11: cannot open shared object file: No such file or directory; LD_LIBRARY_PATH: /usr/lib/cuda/include:/usr/lib/cuda/lib64:\n",
      "2021-09-08 22:51:24.639450: W tensorflow/stream_executor/platform/default/dso_loader.cc:64] Could not load dynamic library 'libcusolver.so.11'; dlerror: libcusolver.so.11: cannot open shared object file: No such file or directory; LD_LIBRARY_PATH: /usr/lib/cuda/include:/usr/lib/cuda/lib64:\n",
      "2021-09-08 22:51:24.639527: W tensorflow/stream_executor/platform/default/dso_loader.cc:64] Could not load dynamic library 'libcusparse.so.11'; dlerror: libcusparse.so.11: cannot open shared object file: No such file or directory; LD_LIBRARY_PATH: /usr/lib/cuda/include:/usr/lib/cuda/lib64:\n",
      "2021-09-08 22:51:24.639631: W tensorflow/core/common_runtime/gpu/gpu_device.cc:1835] Cannot dlopen some GPU libraries. Please make sure the missing libraries mentioned above are installed properly if you would like to use GPU. Follow the guide at https://www.tensorflow.org/install/gpu for how to download and setup the required libraries for your platform.\n",
      "Skipping registering GPU devices...\n",
      "2021-09-08 22:51:24.639873: I tensorflow/core/platform/cpu_feature_guard.cc:142] This TensorFlow binary is optimized with oneAPI Deep Neural Network Library (oneDNN) to use the following CPU instructions in performance-critical operations:  AVX2 FMA\n",
      "To enable them in other operations, rebuild TensorFlow with the appropriate compiler flags.\n"
     ]
    }
   ],
   "metadata": {}
  },
  {
   "cell_type": "markdown",
   "source": [
    "Now when the model is defined, let's train it.\n",
    "\n",
    " **Please note**, our goal for this tutorial is not to create the best classification model for the \"adult\" dataset. So we will not focus on picking the best feature and optimizing hyperparameters. Our goal is to learn more about ONNX! :wink:"
   ],
   "metadata": {}
  },
  {
   "cell_type": "code",
   "execution_count": 5,
   "source": [
    "from tensorflow import keras\n",
    "from sklearn.metrics import accuracy_score\n",
    "\n",
    "\n",
    "save_best_model_callback = keras.callbacks.ModelCheckpoint(\n",
    "    filepath=os.path.join('tmp', 'best_weights.h5'),\n",
    "    monitor='val_loss',\n",
    "    mode='min',\n",
    "    save_best_only=True)\n",
    "\n",
    "# Trains the Tenserflow (Keras) model.\n",
    "model.fit(X_train, y_train, batch_size=64, epochs=10, verbose=1, \n",
    "          validation_data=(X_test,y_test), callbacks=[save_best_model_callback])\n",
    "\n",
    "# Loads the best model weights.\n",
    "model = keras.models.load_model(os.path.join('tmp', 'best_weights.h5'))\n",
    "\n",
    "# Uses the model for scoring.\n",
    "y_tensorflow_probas = model.predict(X_test)                 # collects the prediction probabilities;\n",
    "y_tensorflow_pred = np.argmax(y_tensorflow_probas, axis=1)  # collects the predicted labels;\n",
    "\n",
    "# Just for convenience name the test.y labels as the ground truth.\n",
    "y_true = np.argmax(y_test, axis=1)\n",
    "\n",
    "# Computes the accuracy score.\n",
    "tensorflow_accuracy = accuracy_score(y_true, y_tensorflow_pred)\n",
    "print('The model accuracy: %.2f' % tensorflow_accuracy)\n",
    "\n",
    "# Re-saves the model using TF format.\n",
    "model.save(\n",
    "    os.path.join('tmp', 'model.h5'),\n",
    "    overwrite=True, include_optimizer=False, save_format='tf'\n",
    ")"
   ],
   "outputs": [
    {
     "output_type": "stream",
     "name": "stderr",
     "text": [
      "2021-09-08 22:51:24.773129: I tensorflow/compiler/mlir/mlir_graph_optimization_pass.cc:185] None of the MLIR Optimization Passes are enabled (registered 2)\n"
     ]
    },
    {
     "output_type": "stream",
     "name": "stdout",
     "text": [
      "Epoch 1/10\n",
      "341/341 [==============================] - 2s 4ms/step - loss: 0.3558 - accuracy: 0.8312 - val_loss: 0.3119 - val_accuracy: 0.8541\n",
      "Epoch 2/10\n",
      "341/341 [==============================] - 1s 4ms/step - loss: 0.3213 - accuracy: 0.8516 - val_loss: 0.3095 - val_accuracy: 0.8592\n",
      "Epoch 3/10\n",
      "341/341 [==============================] - 1s 3ms/step - loss: 0.3140 - accuracy: 0.8531 - val_loss: 0.3101 - val_accuracy: 0.8591\n",
      "Epoch 4/10\n",
      "341/341 [==============================] - 0s 1ms/step - loss: 0.3094 - accuracy: 0.8566 - val_loss: 0.3079 - val_accuracy: 0.8587\n",
      "Epoch 5/10\n",
      "341/341 [==============================] - 1s 2ms/step - loss: 0.3052 - accuracy: 0.8590 - val_loss: 0.3114 - val_accuracy: 0.8576\n",
      "Epoch 6/10\n",
      "341/341 [==============================] - 1s 2ms/step - loss: 0.3015 - accuracy: 0.8596 - val_loss: 0.3087 - val_accuracy: 0.8587\n",
      "Epoch 7/10\n",
      "341/341 [==============================] - 0s 1ms/step - loss: 0.2998 - accuracy: 0.8610 - val_loss: 0.3075 - val_accuracy: 0.8576\n",
      "Epoch 8/10\n",
      "341/341 [==============================] - 0s 1ms/step - loss: 0.2968 - accuracy: 0.8645 - val_loss: 0.3134 - val_accuracy: 0.8559\n",
      "Epoch 9/10\n",
      "341/341 [==============================] - 0s 1ms/step - loss: 0.2947 - accuracy: 0.8648 - val_loss: 0.3113 - val_accuracy: 0.8585\n",
      "Epoch 10/10\n",
      "341/341 [==============================] - 0s 1ms/step - loss: 0.2916 - accuracy: 0.8649 - val_loss: 0.3129 - val_accuracy: 0.8562\n",
      "The model accuracy: 0.86\n"
     ]
    }
   ],
   "metadata": {}
  },
  {
   "cell_type": "markdown",
   "source": [
    "The trained ML model was completed and showed an accuracy of **86%**. Our last step in the previous code-block was to save the model graph and weights in the \"model.h5\" file using Tensorflow format."
   ],
   "metadata": {}
  },
  {
   "cell_type": "markdown",
   "source": [
    "## Convert Test Tensorflow(Keras) Model To ONNX\n",
    "\n",
    "Next, we need to convert the Tensorflow(Kears) model into the ONNX format and serialize it to the file. The conversion process is done by the [tf2onnx](https://github.com/onnx/tensorflow-onnx) package. Our initial attempt was to use [keras-onnx](https://github.com/onnx/keras-onnx), but we encountered an error, to resolve, which the **tf2onnx** was recommended. This is why we saved the model using the Tensorflow format in the previous step."
   ],
   "metadata": {}
  },
  {
   "cell_type": "code",
   "execution_count": 6,
   "source": [
    "import tf2onnx.convert\n",
    "\n",
    "# Loads the model saved TF format.\n",
    "model = keras.models.load_model(os.path.join('tmp', 'model.h5'))\n",
    "onnx_model, _ = tf2onnx.convert.from_keras(model)\n",
    "\n",
    "# # Converts the model to the ONNX format.\n",
    "onnx_filename = 'model.onnx'\n",
    "\n",
    "# Serializes the ONNX model to the file.\n",
    "with open(os.path.join('tmp', onnx_filename), \"wb\") as f:\n",
    "    f.write(onnx_model.SerializeToString())\n",
    "    print('The ONNX model has been successfully saved in \"model.onnx\" file.')"
   ],
   "outputs": [
    {
     "output_type": "stream",
     "name": "stdout",
     "text": [
      "WARNING:tensorflow:No training configuration found in the save file, so the model was *not* compiled. Compile it manually.\n",
      "WARNING:tensorflow:From /home/mykola/Projects/onnx-hello-world/.venv/lib/python3.8/site-packages/tf2onnx/tf_loader.py:703: extract_sub_graph (from tensorflow.python.framework.graph_util_impl) is deprecated and will be removed in a future version.\n",
      "Instructions for updating:\n",
      "Use `tf.compat.v1.graph_util.extract_sub_graph`\n",
      "The ONNX model has been successfully saved in \"model.onnx\" file.\n"
     ]
    },
    {
     "output_type": "stream",
     "name": "stderr",
     "text": [
      "2021-09-08 22:51:33.700991: I tensorflow/stream_executor/cuda/cuda_gpu_executor.cc:937] successful NUMA node read from SysFS had negative value (-1), but there must be at least one NUMA node, so returning NUMA node zero\n",
      "2021-09-08 22:51:33.701280: I tensorflow/core/grappler/devices.cc:66] Number of eligible GPUs (core count >= 8, compute capability >= 0.0): 1\n",
      "2021-09-08 22:51:33.701347: I tensorflow/core/grappler/clusters/single_machine.cc:357] Starting new session\n",
      "2021-09-08 22:51:33.701615: I tensorflow/stream_executor/cuda/cuda_gpu_executor.cc:937] successful NUMA node read from SysFS had negative value (-1), but there must be at least one NUMA node, so returning NUMA node zero\n",
      "2021-09-08 22:51:33.701855: W tensorflow/core/common_runtime/gpu/gpu_device.cc:1835] Cannot dlopen some GPU libraries. Please make sure the missing libraries mentioned above are installed properly if you would like to use GPU. Follow the guide at https://www.tensorflow.org/install/gpu for how to download and setup the required libraries for your platform.\n",
      "Skipping registering GPU devices...\n",
      "2021-09-08 22:51:33.760740: I tensorflow/core/grappler/optimizers/meta_optimizer.cc:1137] Optimization results for grappler item: graph_to_optimize\n",
      "  function_optimizer: function_optimizer did nothing. time = 0.009ms.\n",
      "  function_optimizer: function_optimizer did nothing. time = 0.001ms.\n",
      "\n",
      "2021-09-08 22:51:33.786515: I tensorflow/stream_executor/cuda/cuda_gpu_executor.cc:937] successful NUMA node read from SysFS had negative value (-1), but there must be at least one NUMA node, so returning NUMA node zero\n",
      "2021-09-08 22:51:33.786836: I tensorflow/core/grappler/devices.cc:66] Number of eligible GPUs (core count >= 8, compute capability >= 0.0): 1\n",
      "2021-09-08 22:51:33.786943: I tensorflow/core/grappler/clusters/single_machine.cc:357] Starting new session\n",
      "2021-09-08 22:51:33.787227: I tensorflow/stream_executor/cuda/cuda_gpu_executor.cc:937] successful NUMA node read from SysFS had negative value (-1), but there must be at least one NUMA node, so returning NUMA node zero\n",
      "2021-09-08 22:51:33.787448: W tensorflow/core/common_runtime/gpu/gpu_device.cc:1835] Cannot dlopen some GPU libraries. Please make sure the missing libraries mentioned above are installed properly if you would like to use GPU. Follow the guide at https://www.tensorflow.org/install/gpu for how to download and setup the required libraries for your platform.\n",
      "Skipping registering GPU devices...\n",
      "2021-09-08 22:51:33.789829: I tensorflow/core/grappler/optimizers/meta_optimizer.cc:1137] Optimization results for grappler item: graph_to_optimize\n",
      "  constant_folding: Graph size after: 26 nodes (-8), 33 edges (-8), time = 0.999ms.\n",
      "  function_optimizer: function_optimizer did nothing. time = 0.015ms.\n",
      "  constant_folding: Graph size after: 26 nodes (0), 33 edges (0), time = 0.338ms.\n",
      "  function_optimizer: function_optimizer did nothing. time = 0.017ms.\n",
      "\n"
     ]
    }
   ],
   "metadata": {}
  },
  {
   "cell_type": "markdown",
   "source": [
    "## Load & Test ONNX Model\n",
    "\n",
    "To load the model, we just need to specify its file name in the runtime.\n",
    "\n",
    "```Python\n",
    "sess = rt.InferenceSession(os.path.join('tmp', onnx_filename))\n",
    "```\n",
    "\n",
    "The ONNX model uses this dictionary for inference. The **X_test** data are already correctly formatted. Pay attention to the dictionary key.\n",
    "\n",
    "```Python\n",
    "sess.get_inputs()[0].name\n",
    "```\n",
    "\n",
    "This line will return the name of the first layer in our model. Do not name it manually! Since during the notebook re-run the name of the first layer might changes!"
   ],
   "metadata": {}
  },
  {
   "cell_type": "code",
   "execution_count": 7,
   "source": [
    "import onnxruntime as rt\n",
    "\n",
    "sess = rt.InferenceSession(os.path.join('tmp', onnx_filename))\n",
    "\n",
    "y_onnx_probas = sess.run(None, {sess.get_inputs()[0].name: X_test})\n",
    "y_onnx_pred = np.argmax(y_onnx_probas[0], axis=1)\n",
    "\n",
    "onnx_accuracy = accuracy_score(y_true, y_onnx_pred)\n",
    "print('The ONNX model accuracy: %.2f' % onnx_accuracy)"
   ],
   "outputs": [
    {
     "output_type": "stream",
     "name": "stdout",
     "text": [
      "The ONNX model accuracy: 0.86\n"
     ]
    }
   ],
   "metadata": {}
  },
  {
   "cell_type": "markdown",
   "source": [
    "The ONNX model showed an accuracy of **86%**, the same accuracy as the original Tensorflow(Keras) model."
   ],
   "metadata": {}
  },
  {
   "cell_type": "markdown",
   "source": [
    "## Compare Tensorflow(Keras) & ONNX Models \n",
    "\n",
    "Even we do not expect a difference between Tensorflow(Keras) and ONNX model accuracies, let's visualize the confusion matrix. In this confusion matrix, we will consider predictions generated by the Tensorflow(Keras) model as a ground truth (GT)."
   ],
   "metadata": {}
  },
  {
   "cell_type": "code",
   "execution_count": 8,
   "source": [
    "import seaborn as sn\n",
    "import pandas as pd\n",
    "import matplotlib.pyplot as plt\n",
    "\n",
    "from sklearn.metrics import confusion_matrix\n",
    "\n",
    "# Creates the confusion matrix.\n",
    "cm = confusion_matrix(y_tensorflow_pred, y_onnx_pred)\n",
    "df_cm = pd.DataFrame(cm, range(2), range(2))\n",
    "\n",
    "# Makes a confusion matrix plot.\n",
    "fig, ax = plt.subplots(figsize=(5,5))\n",
    "sn.heatmap(df_cm, annot=True, fmt='d', ax=ax)\n",
    "ax.set_title( f'Confusion matrix between Tensorflow(Keras)\\nand ONNX models predictions, where\\nTensorflow(Keras) is considered as ground truth\\n(based on \"{dataset_name}\" dataset)' )\n",
    "ax.set_xlabel(\"ONNX Model Predictions\")\n",
    "ax.set_ylabel(\"Tensorflow(Keras) Model Predictions (GT)\")\n",
    "plt.tight_layout()"
   ],
   "outputs": [
    {
     "output_type": "display_data",
     "data": {
      "image/png": "[encoded data removed]",
      "text/plain": [
       "<Figure size 360x360 with 2 Axes>"
      ]
     },
     "metadata": {
      "needs_background": "light"
     }
    }
   ],
   "metadata": {}
  },
  {
   "cell_type": "markdown",
   "source": [
    "Despite the same accuracy, we expect some differences in prediction probabilities. To visualize these differences, we substruct ONNX probabilities from Tensorflow(Keras) probabilities and then plot the distribution of differences using a box plot."
   ],
   "metadata": {}
  },
  {
   "cell_type": "code",
   "execution_count": 9,
   "source": [
    "# Convert Tensorflow(Keras) and ONNX probabilities into Pandas data frame.\n",
    "# This will help us to perform mathematical operations later.\n",
    "df_tensorflow_probas = pd.DataFrame(y_tensorflow_probas, columns=[0, 1])\n",
    "df_onnx_probas = pd.DataFrame(y_onnx_probas[0], columns=[0, 1])\n",
    "\n",
    "# Computes a difference between Tensorflow(Keras) and ONNX probabilities.\n",
    "df_diff = df_tensorflow_probas - df_onnx_probas\n",
    "\n",
    "# Makes a Box plot.\n",
    "poxplot = df_diff.boxplot(color={'medians': 'orange'})\n",
    "plt.title( f'The difference in prediction probabilities\\nbetween Temsorflow(Keras) and ONNX\\nmodels (based on \"{dataset_name}\" dataset)' )\n",
    "plt.xlabel(\"Predicted Labels\")\n",
    "plt.ylabel(\"Difference in predicted probabilities\")\n",
    "plt.tight_layout()\n",
    "plt.savefig(os.path.join('tmp', f'diff_tensorflow.jpg'))"
   ],
   "outputs": [
    {
     "output_type": "display_data",
     "data": {
      "image/png": "[encoded data removed]",
      "text/plain": [
       "<Figure size 432x288 with 1 Axes>"
      ]
     },
     "metadata": {
      "needs_background": "light"
     }
    }
   ],
   "metadata": {}
  }
 ],
 "metadata": {
  "orig_nbformat": 4,
  "language_info": {
   "name": "python",
   "version": "3.8.10",
   "mimetype": "text/x-python",
   "codemirror_mode": {
    "name": "ipython",
    "version": 3
   },
   "pygments_lexer": "ipython3",
   "nbconvert_exporter": "python",
   "file_extension": ".py"
  },
  "kernelspec": {
   "name": "python3",
   "display_name": "Python 3.8.10 64-bit ('.venv': venv)"
  },
  "interpreter": {
   "hash": "5b01ea270aa5259acbf4f8381f599d977e3036a7ea54781fba0ae6d431406d64"
  }
 },
 "nbformat": 4,
 "nbformat_minor": 2
}