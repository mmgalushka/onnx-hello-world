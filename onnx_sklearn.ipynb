{
 "cells": [
  {
   "cell_type": "markdown",
   "source": [
    "# SKLearn & ONNX \n",
    "\n",
    "This notebook has been built based on [this tutorial](http://onnx.ai/sklearn-onnx/auto_examples/plot_intermediate_outputs.html). Here we investigate the process of conversion of different [SKLearn](https://scikit-learn.org/stable/) models to the [ONNX](https://onnx.ai/) format and compares these models' performance. For performing experiments, we selected the \"titanic\" classification data set. It contains a combination of numeric and categorical features. This combination of features is useful for assembling and testing the data preprocessing pipeline."
   ],
   "metadata": {}
  },
  {
   "cell_type": "markdown",
   "source": [
    "## Prepare Dataset\n",
    "\n",
    "For creating ML models we loaded the \"Titanic\" dataset and selected the following features:\n",
    "\n",
    "| Feature      | Kind       | Type    | Enforce(*) |\n",
    "| ----------- | ----------- | ------- | ---------- |\n",
    "| Pclass      | categorical | str     | yes        |\n",
    "| Sex         | categorical | str     | no         |\n",
    "| Age         | numeric     | float32 | yes        |\n",
    "| Fare        | numeric     | float32 | yes        |\n",
    "\n",
    "(*) We will need to enforce types for features which original type were incorrectly detected.\n",
    "\n",
    "\n",
    "The Pandas loader detects the \"Pclass\" - passenger class feature as **int** type. We forced the conversion of this feature to the **str** type.  Since, according to the documentation, ONNX one-hot encoder cannot perform the implicit conversions.\n",
    "\n",
    "We also forced the conversion of both numeric fields \"Age\" and \"Fare\" from **float64** to **float32**. For our experiments, we do not need this precision."
   ],
   "metadata": {}
  },
  {
   "cell_type": "code",
   "execution_count": 43,
   "source": [
    "import numpy as np\n",
    "from utils import load_dataset\n",
    "\n",
    "# Sets the loading dataset name.\n",
    "dataset_name = 'titanic'\n",
    "\n",
    "# Loads the dataset.\n",
    "dataset = load_dataset(dataset_name)\n",
    "\n",
    "# In the documentation: \n",
    "# http://onnx.ai/sklearn-onnx/auto_examples/plot_intermediate_outputs.html\n",
    "# we have the following recommendation: \"scikit-learn does implicit conversions\n",
    "#  when it can. sklearn-onnx does not. The ONNX version of OneHotEncoder must\n",
    "# be applied on columns of the same type.\"\n",
    "# TODO: we need to investigate it, but for now, let's follow the instruction\n",
    "# for type conversion.\n",
    "dataset['Pclass'] = dataset['Pclass'].astype(str)\n",
    "\n",
    "# Lets select \"float32\" for the numeric columns.\n",
    "dataset['Age'] = dataset['Age'].astype(np.float32)\n",
    "dataset['Fare'] = dataset['Fare'].astype(np.float32)\n",
    "\n",
    "# Splits data into training (2/3) and test (1/3).\n",
    "train, test = dataset.train_test_split()\n",
    "\n",
    "print('Loaded \"%s\" datase:' % dataset_name)\n",
    "print('   - number of training samples: %d' % len(train))\n",
    "print('   - number of test samples:     %d' % len(test))\n"
   ],
   "outputs": [
    {
     "output_type": "stream",
     "name": "stdout",
     "text": [
      "Loaded \"titanic\" datase:\n",
      "   - number of training samples: 594\n",
      "   - number of test samples:     293\n"
     ]
    }
   ],
   "metadata": {}
  },
  {
   "cell_type": "markdown",
   "source": [
    "## Train & Test SKLearn Model\n",
    "\n",
    "For conducting experiments, we selected six SKLearn classifiers listed below:\n",
    "\n",
    "| Classifier  | SKLearn Class |\n",
    "| ----------- | ------------- |\n",
    "| knn         | [KNeighborsClassifier](https://scikit-learn.org/stable/modules/generated/sklearn.neighbors.KNeighborsClassifier.html?highlight=kneighborsclassifier#sklearn.neighbors.KNeighborsClassifier) |\n",
    "| lr          | [LogisticRegression](https://scikit-learn.org/stable/modules/generated/sklearn.linear_model.LogisticRegression.html?highlight=logisticregression#sklearn.linear_model.LogisticRegression) |\n",
    "| rf          | [RandomForestClassifier](https://scikit-learn.org/stable/modules/generated/sklearn.ensemble.RandomForestClassifier.html?highlight=randomforestclassifier#sklearn.ensemble.RandomForestClassifier) |\n",
    "| svm         | [SVC](https://scikit-learn.org/stable/modules/generated/sklearn.svm.SVC.html?highlight=svc#sklearn.svm.SVC) |\n",
    "| nb          | [GaussianNB](https://scikit-learn.org/stable/modules/generated/sklearn.naive_bayes.GaussianNB.html?highlight=gaussiannb#sklearn.naive_bayes.GaussianNB) |\n",
    "| mlp         | [MLPClassifier](https://scikit-learn.org/stable/modules/generated/sklearn.neural_network.MLPClassifier.html?highlight=mlpclassifier#sklearn.neural_network.MLPClassifier) |\n",
    "\n",
    "If this list is not comprehensive for your experiment, feel free to add there your classification model. Make sure that your model is supported ONNX conversion using [this documentation](https://onnx.ai/sklearn-onnx/supported.html)."
   ],
   "metadata": {}
  },
  {
   "cell_type": "code",
   "execution_count": 44,
   "source": [
    "from sklearn.neighbors import KNeighborsClassifier\n",
    "from sklearn.linear_model import LogisticRegression\n",
    "from sklearn.ensemble import RandomForestClassifier\n",
    "from sklearn.svm import SVC\n",
    "from sklearn.naive_bayes import GaussianNB\n",
    "from sklearn.neural_network import MLPClassifier\n",
    "\n",
    "classifier = {\n",
    "    'knn': KNeighborsClassifier(),\n",
    "    'lr': LogisticRegression(random_state=42),\n",
    "    'rf': RandomForestClassifier(random_state=42),\n",
    "    'svm': SVC(random_state=42, probability=True),\n",
    "    'nb': GaussianNB(),\n",
    "    'mlp': MLPClassifier(random_state=42)\n",
    "}"
   ],
   "outputs": [],
   "metadata": {}
  },
  {
   "cell_type": "markdown",
   "source": [
    "Then we create a training pipeline which is a combination of data preprocessor and classifier. The data preprocessor provides different steps for handling numeric and categorical features. For more information review the utility function **create_preprocessor** in the **utils** module.\n",
    "\n",
    "**Please note**, our goal for this tutorial is not to create the best classification model for the \"titanic\" dataset. So we will not focus on picking the best feature and optimizing hyperparameters of the different classifiers. Our goal is to learn more about ONNX! :wink:\n",
    "\n",
    "In the example below, we selected the k-nearest neighbor classifier. But when you clone this project pick your own one (\"knn\", \"lr\", \"rf\", \"svm\", \"nb\", or \"mlp\") for the experiment.\n",
    "\n",
    "For the \"knn\" we trained the ML model showing an accuracy of **81%**. "
   ],
   "metadata": {}
  },
  {
   "cell_type": "code",
   "execution_count": 45,
   "source": [
    "from utils import create_preprocessor\n",
    "\n",
    "from sklearn.metrics import accuracy_score\n",
    "from sklearn.pipeline import Pipeline\n",
    "\n",
    "# Creates a data preprocessing pipeline.\n",
    "preprocessor = create_preprocessor(dataset)\n",
    "\n",
    "# Defines the model as a pipeline which combines a data preprocessor and \n",
    "# a calssifier.\n",
    "classifier_name = 'mlp'\n",
    "model = Pipeline(steps=[\n",
    "    ('precprocessor', preprocessor),\n",
    "    ('classifier', classifier[classifier_name])\n",
    "])\n",
    "\n",
    "# Trains the model.\n",
    "model.fit(train.X, train.y)\n",
    "\n",
    "# Uses the model for scoring.\n",
    "y_sklearn_pred = model.predict(test.X)          # collects the predicted labels;\n",
    "y_sklearn_probas = model.predict_proba(test.X)  # collects the prediction probabilities;\n",
    "\n",
    "# Just for convenience name the test.y labels as the ground truth.\n",
    "y_true = test.y\n",
    "\n",
    "# Computes the accuracy score.\n",
    "sklearn_accuracy = accuracy_score(y_true, y_sklearn_pred)\n",
    "print('The model accuracy: %.2f' % sklearn_accuracy)"
   ],
   "outputs": [
    {
     "output_type": "stream",
     "name": "stdout",
     "text": [
      "The model accuracy: 0.77\n"
     ]
    },
    {
     "output_type": "stream",
     "name": "stderr",
     "text": [
      "/home/mykola/Projects/onnx-hello-world/.venv/lib/python3.8/site-packages/sklearn/neural_network/_multilayer_perceptron.py:614: ConvergenceWarning: Stochastic Optimizer: Maximum iterations (200) reached and the optimization hasn't converged yet.\n",
      "  warnings.warn(\n"
     ]
    }
   ],
   "metadata": {}
  },
  {
   "cell_type": "markdown",
   "source": [
    "## Convert Model To ONNX\n",
    "\n",
    "Next, we need to convert the SKLearn model to ONNX format and serialize it to the file. The conversion process is simple. It is performed by the convert_sklearn function, assuming that your classifier and preprocessing elements are supported by ONNX.\n",
    "\n",
    "One important aspect you need to focus on is setting correct input types. To do we provided the utility function **get_onnx_input_type** defined in the **utils** module. It takes the training dataset and uses it to guess and generate ONNX input types. This function was created to be generic, so we can reuse it in different notebooks. In practice, you can optimize the input types to feet best your data."
   ],
   "metadata": {}
  },
  {
   "cell_type": "code",
   "execution_count": 46,
   "source": [
    "from utils import get_onnx_input_type\n",
    "from skl2onnx import convert_sklearn\n",
    "\n",
    "# Creates input type using dataset schema.\n",
    "initial_type = get_onnx_input_type(train)\n",
    "\n",
    "# Converts the model to the ONNX format.\n",
    "onnx_filename = 'model.onnx'\n",
    "onnx_model = convert_sklearn(model, initial_types=initial_type)\n",
    "\n",
    "# Serializes the ONNX model to the file.\n",
    "with open(onnx_filename, \"wb\") as f:\n",
    "    f.write(onnx_model.SerializeToString())\n",
    "    print('The ONNX model has been successfully saved in \"model.onnx\" file.')"
   ],
   "outputs": [
    {
     "output_type": "stream",
     "name": "stdout",
     "text": [
      "The ONNX model has been successfully saved in \"model.onnx\" file.\n"
     ]
    }
   ],
   "metadata": {}
  },
  {
   "cell_type": "markdown",
   "source": [
    "## Load & Test ONNX Model\n",
    "\n",
    "To load the model, we just need to specify its file name in the runtime. \n",
    "\n",
    "Unfortunately, we cannot use the test Pandas data frame directly for inference. The data entering the ONNX model has to be transformed in a slightly different format. For doing this transformation we are using the **get_onnx_input_data** function defined in the **utils** module. This function converts the  Pandas data frame:\n",
    "\n",
    "```\n",
    "      Age       Fare Pclass     Sex\n",
    "296  47.0  30.500000      1    male\n",
    "682  25.0  41.579201      2    male\n",
    "535  69.0  14.500000      3    male\n",
    "644  56.0  35.500000      1    male\n",
    "623  57.0  12.350000      2    male\n",
    "..    ...        ...    ...     ...\n",
    "377  19.0   7.775000      3    male\n",
    "140  22.0   7.750000      3  female\n",
    "173  56.0  30.695801      1    male\n",
    "6    54.0  51.862499      1    male\n",
    "731  28.5  16.100000      3    male\n",
    "```\n",
    "\n",
    "in the following dictionary:\n",
    "\n",
    "```\n",
    "{'Age': array([[47.  ],\n",
    "       [25.  ],\n",
    "       [69.  ],\n",
    "       [56.  ],\n",
    "       [57.  ],\n",
    "       ...], dtype=float32), \n",
    "'Fare': array([[ 30.5   ],\n",
    "       [ 41.5792],\n",
    "       [ 14.5   ],\n",
    "       [ 35.5   ],\n",
    "       [ 12.35  ],\n",
    "       ...], dtype=float32),\n",
    "'Pclass': array([['1'],\n",
    "       ['2'],\n",
    "       ['3'],\n",
    "       ['1'],\n",
    "       ['2'],\n",
    "       ...], dtype=object),\n",
    "'Sex': array([['male'],\n",
    "       ['male'],\n",
    "       ['male'],\n",
    "       ['male'],\n",
    "       ...], dtype=object)}\n",
    "```\n",
    "\n",
    "This dictionary can be used now for inference using the ONNX model. The accuracy of the ONNX model to the same data we were used for score SKLearn model is the same 81%. So we can conclude that both models are the same."
   ],
   "metadata": {}
  },
  {
   "cell_type": "code",
   "execution_count": 47,
   "source": [
    "from utils import get_onnx_input_data\n",
    "import onnxruntime as rt\n",
    "\n",
    "input_data = get_onnx_input_data(test)\n",
    "\n",
    "sess = rt.InferenceSession('model.onnx')\n",
    "y_onnx_pred, y_onnx_probas = sess.run(None, input_data)\n",
    "onnx_accuracy = accuracy_score(test.y, y_onnx_pred)\n",
    "print('The ONNX model accuracy: %.2f' % onnx_accuracy)"
   ],
   "outputs": [
    {
     "output_type": "stream",
     "name": "stdout",
     "text": [
      "The ONNX model accuracy: 0.77\n"
     ]
    }
   ],
   "metadata": {}
  },
  {
   "cell_type": "markdown",
   "source": [
    "## Compare SKLearn & ONNX Models \n",
    "\n",
    "Even we do not expect a difference between SKLearn and ONNX models' accuracies,  let's visualize the confusion matrix. In this confusion matrix, we will consider predictions generated by the SKLearn model as a ground truth (GT)."
   ],
   "metadata": {}
  },
  {
   "cell_type": "code",
   "execution_count": 48,
   "source": [
    "import seaborn as sn\n",
    "import pandas as pd\n",
    "import matplotlib.pyplot as plt\n",
    "\n",
    "from sklearn.metrics import confusion_matrix\n",
    "\n",
    "# Creates the confusion matrix.\n",
    "cm = confusion_matrix(y_sklearn_pred, y_onnx_pred)\n",
    "df_cm = pd.DataFrame(cm, range(2), range(2))\n",
    "\n",
    "# Makes a confusion matrix plot.\n",
    "fig, ax = plt.subplots(figsize=(5,5))\n",
    "sn.heatmap(df_cm, annot=True, fmt='d', ax=ax)\n",
    "ax.set_title( f'Confusion matrix between SKLearn and\\nONNX for \"{classifier_name}\" models predictions, where\\nSKLearn is considered as ground truth\\n(based on \"{dataset_name}\" dataset)' )\n",
    "ax.set_xlabel(\"ONNX Model Predictions\")\n",
    "ax.set_ylabel(\"SKLearn Model Predictions (GT)\")\n",
    "plt.tight_layout()"
   ],
   "outputs": [
    {
     "output_type": "display_data",
     "data": {
      "image/png": "[encoded data removed]",
      "text/plain": [
       "<Figure size 360x360 with 2 Axes>"
      ]
     },
     "metadata": {
      "needs_background": "light"
     }
    }
   ],
   "metadata": {}
  },
  {
   "cell_type": "markdown",
   "source": [
    "However, we expect some differences in prediction probabilities. To visualize these differences, we substruct  ONNX probabilities from SKLearn probabilities, and then plot distribution of the obtained differences using a box plot."
   ],
   "metadata": {}
  },
  {
   "cell_type": "code",
   "execution_count": 49,
   "source": [
    "# Convert SKLearn and ONNX probabilities into Pandas data frame. This will\n",
    "# help us to perform mathematical operations later.\n",
    "df_sklearn_probas = pd.DataFrame(y_sklearn_probas)\n",
    "df_onnx_probas = pd.DataFrame(y_onnx_probas)\n",
    "\n",
    "# Computes a difference between SKLearn and ONNX probabilities.\n",
    "df_diff = df_sklearn_probas - df_onnx_probas\n",
    "\n",
    "# Makes a Box plot.\n",
    "poxplot = df_diff.boxplot(color={'medians': 'orange'})\n",
    "plt.title( f'The difference in prediction probabilities\\nbetween SKLearn and ONNX for \"{classifier_name}\"\\nmodels (based on \"{dataset_name}\" dataset)' )\n",
    "plt.xlabel(\"Categories\")\n",
    "plt.ylabel(\"Difference in predicted probabilities\")\n",
    "plt.tight_layout()\n",
    "plt.savefig(f'exp/diff_{classifier_name}.jpg')"
   ],
   "outputs": [
    {
     "output_type": "display_data",
     "data": {
      "image/png": "[encoded data removed]",
      "text/plain": [
       "<Figure size 432x288 with 1 Axes>"
      ]
     },
     "metadata": {
      "needs_background": "light"
     }
    }
   ],
   "metadata": {}
  }
 ],
 "metadata": {
  "orig_nbformat": 4,
  "language_info": {
   "name": "python",
   "version": "3.8.10",
   "mimetype": "text/x-python",
   "codemirror_mode": {
    "name": "ipython",
    "version": 3
   },
   "pygments_lexer": "ipython3",
   "nbconvert_exporter": "python",
   "file_extension": ".py"
  },
  "kernelspec": {
   "name": "python3",
   "display_name": "Python 3.8.10 64-bit ('.venv': venv)"
  },
  "interpreter": {
   "hash": "5b01ea270aa5259acbf4f8381f599d977e3036a7ea54781fba0ae6d431406d64"
  }
 },
 "nbformat": 4,
 "nbformat_minor": 2
}