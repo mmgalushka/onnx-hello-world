{
 "cells": [
  {
   "cell_type": "markdown",
   "source": [
    "# Prepare Dataset\n",
    "\n",
    "Load the \"Titanic\" data set from the file and display its summary."
   ],
   "metadata": {}
  },
  {
   "cell_type": "code",
   "execution_count": 1,
   "source": [
    "import numpy as np\n",
    "import pandas as pd\n",
    "\n",
    "from sklearn.model_selection import train_test_split\n",
    "\n",
    "df = pd.read_csv('data/titanic.csv')\n",
    "df"
   ],
   "outputs": [
    {
     "output_type": "execute_result",
     "data": {
      "text/plain": [
       "     Survived  Pclass                                               Name  \\\n",
       "0           0       3                             Mr. Owen Harris Braund   \n",
       "1           1       1  Mrs. John Bradley (Florence Briggs Thayer) Cum...   \n",
       "2           1       3                              Miss. Laina Heikkinen   \n",
       "3           1       1        Mrs. Jacques Heath (Lily May Peel) Futrelle   \n",
       "4           0       3                            Mr. William Henry Allen   \n",
       "..        ...     ...                                                ...   \n",
       "882         0       2                               Rev. Juozas Montvila   \n",
       "883         1       1                        Miss. Margaret Edith Graham   \n",
       "884         0       3                     Miss. Catherine Helen Johnston   \n",
       "885         1       1                               Mr. Karl Howell Behr   \n",
       "886         0       3                                 Mr. Patrick Dooley   \n",
       "\n",
       "        Sex   Age  Siblings and Spouses Aboard  Parents and Children Aboard  \\\n",
       "0      male  22.0                            1                            0   \n",
       "1    female  38.0                            1                            0   \n",
       "2    female  26.0                            0                            0   \n",
       "3    female  35.0                            1                            0   \n",
       "4      male  35.0                            0                            0   \n",
       "..      ...   ...                          ...                          ...   \n",
       "882    male  27.0                            0                            0   \n",
       "883  female  19.0                            0                            0   \n",
       "884  female   7.0                            1                            2   \n",
       "885    male  26.0                            0                            0   \n",
       "886    male  32.0                            0                            0   \n",
       "\n",
       "        Fare  \n",
       "0     7.2500  \n",
       "1    71.2833  \n",
       "2     7.9250  \n",
       "3    53.1000  \n",
       "4     8.0500  \n",
       "..       ...  \n",
       "882  13.0000  \n",
       "883  30.0000  \n",
       "884  23.4500  \n",
       "885  30.0000  \n",
       "886   7.7500  \n",
       "\n",
       "[887 rows x 8 columns]"
      ],
      "text/html": [
       "<div>\n",
       "<style scoped>\n",
       "    .dataframe tbody tr th:only-of-type {\n",
       "        vertical-align: middle;\n",
       "    }\n",
       "\n",
       "    .dataframe tbody tr th {\n",
       "        vertical-align: top;\n",
       "    }\n",
       "\n",
       "    .dataframe thead th {\n",
       "        text-align: right;\n",
       "    }\n",
       "</style>\n",
       "<table border=\"1\" class=\"dataframe\">\n",
       "  <thead>\n",
       "    <tr style=\"text-align: right;\">\n",
       "      <th></th>\n",
       "      <th>Survived</th>\n",
       "      <th>Pclass</th>\n",
       "      <th>Name</th>\n",
       "      <th>Sex</th>\n",
       "      <th>Age</th>\n",
       "      <th>Siblings and Spouses Aboard</th>\n",
       "      <th>Parents and Children Aboard</th>\n",
       "      <th>Fare</th>\n",
       "    </tr>\n",
       "  </thead>\n",
       "  <tbody>\n",
       "    <tr>\n",
       "      <th>0</th>\n",
       "      <td>0</td>\n",
       "      <td>3</td>\n",
       "      <td>Mr. Owen Harris Braund</td>\n",
       "      <td>male</td>\n",
       "      <td>22.0</td>\n",
       "      <td>1</td>\n",
       "      <td>0</td>\n",
       "      <td>7.2500</td>\n",
       "    </tr>\n",
       "    <tr>\n",
       "      <th>1</th>\n",
       "      <td>1</td>\n",
       "      <td>1</td>\n",
       "      <td>Mrs. John Bradley (Florence Briggs Thayer) Cum...</td>\n",
       "      <td>female</td>\n",
       "      <td>38.0</td>\n",
       "      <td>1</td>\n",
       "      <td>0</td>\n",
       "      <td>71.2833</td>\n",
       "    </tr>\n",
       "    <tr>\n",
       "      <th>2</th>\n",
       "      <td>1</td>\n",
       "      <td>3</td>\n",
       "      <td>Miss. Laina Heikkinen</td>\n",
       "      <td>female</td>\n",
       "      <td>26.0</td>\n",
       "      <td>0</td>\n",
       "      <td>0</td>\n",
       "      <td>7.9250</td>\n",
       "    </tr>\n",
       "    <tr>\n",
       "      <th>3</th>\n",
       "      <td>1</td>\n",
       "      <td>1</td>\n",
       "      <td>Mrs. Jacques Heath (Lily May Peel) Futrelle</td>\n",
       "      <td>female</td>\n",
       "      <td>35.0</td>\n",
       "      <td>1</td>\n",
       "      <td>0</td>\n",
       "      <td>53.1000</td>\n",
       "    </tr>\n",
       "    <tr>\n",
       "      <th>4</th>\n",
       "      <td>0</td>\n",
       "      <td>3</td>\n",
       "      <td>Mr. William Henry Allen</td>\n",
       "      <td>male</td>\n",
       "      <td>35.0</td>\n",
       "      <td>0</td>\n",
       "      <td>0</td>\n",
       "      <td>8.0500</td>\n",
       "    </tr>\n",
       "    <tr>\n",
       "      <th>...</th>\n",
       "      <td>...</td>\n",
       "      <td>...</td>\n",
       "      <td>...</td>\n",
       "      <td>...</td>\n",
       "      <td>...</td>\n",
       "      <td>...</td>\n",
       "      <td>...</td>\n",
       "      <td>...</td>\n",
       "    </tr>\n",
       "    <tr>\n",
       "      <th>882</th>\n",
       "      <td>0</td>\n",
       "      <td>2</td>\n",
       "      <td>Rev. Juozas Montvila</td>\n",
       "      <td>male</td>\n",
       "      <td>27.0</td>\n",
       "      <td>0</td>\n",
       "      <td>0</td>\n",
       "      <td>13.0000</td>\n",
       "    </tr>\n",
       "    <tr>\n",
       "      <th>883</th>\n",
       "      <td>1</td>\n",
       "      <td>1</td>\n",
       "      <td>Miss. Margaret Edith Graham</td>\n",
       "      <td>female</td>\n",
       "      <td>19.0</td>\n",
       "      <td>0</td>\n",
       "      <td>0</td>\n",
       "      <td>30.0000</td>\n",
       "    </tr>\n",
       "    <tr>\n",
       "      <th>884</th>\n",
       "      <td>0</td>\n",
       "      <td>3</td>\n",
       "      <td>Miss. Catherine Helen Johnston</td>\n",
       "      <td>female</td>\n",
       "      <td>7.0</td>\n",
       "      <td>1</td>\n",
       "      <td>2</td>\n",
       "      <td>23.4500</td>\n",
       "    </tr>\n",
       "    <tr>\n",
       "      <th>885</th>\n",
       "      <td>1</td>\n",
       "      <td>1</td>\n",
       "      <td>Mr. Karl Howell Behr</td>\n",
       "      <td>male</td>\n",
       "      <td>26.0</td>\n",
       "      <td>0</td>\n",
       "      <td>0</td>\n",
       "      <td>30.0000</td>\n",
       "    </tr>\n",
       "    <tr>\n",
       "      <th>886</th>\n",
       "      <td>0</td>\n",
       "      <td>3</td>\n",
       "      <td>Mr. Patrick Dooley</td>\n",
       "      <td>male</td>\n",
       "      <td>32.0</td>\n",
       "      <td>0</td>\n",
       "      <td>0</td>\n",
       "      <td>7.7500</td>\n",
       "    </tr>\n",
       "  </tbody>\n",
       "</table>\n",
       "<p>887 rows × 8 columns</p>\n",
       "</div>"
      ]
     },
     "metadata": {},
     "execution_count": 1
    }
   ],
   "metadata": {}
  },
  {
   "cell_type": "markdown",
   "source": [
    "We will use the Survived column as a prediction target, and \"Pclass\", \"Sex\", \"Age\" and \"Fare\" columns as input features. Two of these features \"Pclass\" and \"Sex\" are categorical and the other two \"Age\" and \"Fare\" are numeric. Let's make a node of it since we will need it later."
   ],
   "metadata": {}
  },
  {
   "cell_type": "code",
   "execution_count": 2,
   "source": [
    "numeric_features = ['Age', 'Fare']\n",
    "categorical_features =  ['Pclass', 'Sex']\n",
    "target = 'Survived'"
   ],
   "outputs": [],
   "metadata": {}
  },
  {
   "cell_type": "markdown",
   "source": [
    "Filter dataset by creating **X** and **y**, where **X** combines feature columns and **y** represents the target column. "
   ],
   "metadata": {}
  },
  {
   "cell_type": "code",
   "execution_count": 3,
   "source": [
    "\n",
    "# In the documentation: \n",
    "# http://onnx.ai/sklearn-onnx/auto_examples/plot_intermediate_outputs.html\n",
    "# we have the following recommendation: \"scikit-learn does implicit conversions\n",
    "#  when it can. sklearn-onnx does not. The ONNX version of OneHotEncoder must\n",
    "# be applied on columns of the same type.\"\n",
    "# TODO: we need to investigate it, but for now, let's follow the instruction\n",
    "# for type conversion.\n",
    "df['Pclass'] = df['Pclass'].astype(str)\n",
    "\n",
    "X = df[numeric_features + categorical_features]\n",
    "y = df[target]\n",
    "\n",
    "print('X columns types:')\n",
    "print('-'*20)\n",
    "print(X.dtypes)\n",
    "\n",
    "print()\n",
    "\n",
    "print('y column type:')\n",
    "print('-'*20)\n",
    "print(y.dtypes)"
   ],
   "outputs": [
    {
     "output_type": "stream",
     "name": "stdout",
     "text": [
      "X columns types:\n",
      "--------------------\n",
      "Age       float64\n",
      "Fare      float64\n",
      "Pclass     object\n",
      "Sex        object\n",
      "dtype: object\n",
      "\n",
      "y column type:\n",
      "--------------------\n",
      "int64\n"
     ]
    }
   ],
   "metadata": {}
  },
  {
   "cell_type": "markdown",
   "source": [
    "# Train SKLearn Model\n",
    "\n",
    "Define transformers for the numeric and categorical features. Then we wrap them into columns transformation objects. "
   ],
   "metadata": {}
  },
  {
   "cell_type": "code",
   "execution_count": 4,
   "source": [
    "from sklearn.compose import ColumnTransformer\n",
    "from sklearn.pipeline import Pipeline\n",
    "from sklearn.impute import SimpleImputer\n",
    "from sklearn.preprocessing import StandardScaler, OneHotEncoder\n",
    "\n",
    "# The numeric features preprocessing pipeline.\n",
    "numeric_transformer = Pipeline(steps=[\n",
    "    ('imputer', SimpleImputer(strategy='median')),\n",
    "    ('scaler', StandardScaler()),\n",
    "])\n",
    "\n",
    "# The categorical features preprocessing pipeline.\n",
    "categorical_transformer = Pipeline(steps=[\n",
    "    ('onehot', OneHotEncoder(handle_unknown='ignore')),\n",
    "])\n",
    "\n",
    "# The data preprocessor combines numeric and categorical\n",
    "# column transformers.\n",
    "preprocessor = ColumnTransformer(transformers=[\n",
    "    ('num', numeric_transformer, numeric_features),\n",
    "    ('cat', categorical_transformer, categorical_features)\n",
    "])"
   ],
   "outputs": [],
   "metadata": {}
  },
  {
   "cell_type": "markdown",
   "source": [
    "Define a Random Forest for the classifier for the prediction of surviving passengers."
   ],
   "metadata": {}
  },
  {
   "cell_type": "code",
   "execution_count": 5,
   "source": [
    "from sklearn.ensemble import RandomForestClassifier\n",
    "classifier = RandomForestClassifier(random_state=42)"
   ],
   "outputs": [],
   "metadata": {}
  },
  {
   "cell_type": "markdown",
   "source": [
    "Define an ML model which represented by the pipeline that combines a data preprocessor and classification algorithm."
   ],
   "metadata": {}
  },
  {
   "cell_type": "code",
   "execution_count": 6,
   "source": [
    "model = Pipeline(steps=[\n",
    "    ('precprocessor', preprocessor),\n",
    "    ('classifier', classifier)\n",
    "])"
   ],
   "outputs": [],
   "metadata": {}
  },
  {
   "cell_type": "markdown",
   "source": [
    "Split dataset on training and test."
   ],
   "metadata": {}
  },
  {
   "cell_type": "code",
   "execution_count": 7,
   "source": [
    "from sklearn.model_selection import train_test_split\n",
    "X_train, X_test, y_train, y_test = train_test_split(\n",
    "    X, y, test_size=0.33, random_state=42)"
   ],
   "outputs": [],
   "metadata": {}
  },
  {
   "cell_type": "markdown",
   "source": [
    "Train a new model."
   ],
   "metadata": {}
  },
  {
   "cell_type": "code",
   "execution_count": 8,
   "source": [
    "model.fit(X_train, y_train)\n",
    "print('Model has been successfully trained')"
   ],
   "outputs": [
    {
     "output_type": "stream",
     "name": "stdout",
     "text": [
      "Model has been successfully trained\n"
     ]
    }
   ],
   "metadata": {}
  },
  {
   "cell_type": "markdown",
   "source": [
    "Score the model using test data."
   ],
   "metadata": {}
  },
  {
   "cell_type": "code",
   "execution_count": 24,
   "source": [
    "from sklearn.metrics import accuracy_score\n",
    "y_pred = model.predict(X_test)\n",
    "y_probas = model.predict_proba(X_test)\n",
    "accuracy = accuracy_score(y_test, y_pred)\n",
    "print('The model accuracy: %.2f' % accuracy)"
   ],
   "outputs": [
    {
     "output_type": "stream",
     "name": "stdout",
     "text": [
      "The model accuracy: 0.80\n"
     ]
    }
   ],
   "metadata": {}
  },
  {
   "cell_type": "markdown",
   "source": [
    "# Convert Model To ONNX\n",
    "\n",
    "Define a function for converting Dataframe to ONNX schema."
   ],
   "metadata": {}
  },
  {
   "cell_type": "code",
   "execution_count": 10,
   "source": [
    "from skl2onnx.common.data_types import Int64TensorType, FloatTensorType, StringTensorType\n",
    "\n",
    "def convert_to_onnx_schema(df, drop=None):\n",
    "    inputs = []\n",
    "    for k, v in zip(df.columns, df.dtypes):\n",
    "        if drop is not None and k in drop:\n",
    "            continue\n",
    "        if v == 'int64':\n",
    "            t = Int64TensorType([None, 1])\n",
    "        elif v == 'float64':\n",
    "            t = FloatTensorType([None, 1])\n",
    "        else: # v == object\n",
    "            t = StringTensorType([None, 1])\n",
    "        inputs.append((k,t))\n",
    "    return inputs"
   ],
   "outputs": [],
   "metadata": {}
  },
  {
   "cell_type": "markdown",
   "source": [
    "Convert and save the model into ONNX format."
   ],
   "metadata": {}
  },
  {
   "cell_type": "code",
   "execution_count": 11,
   "source": [
    "from skl2onnx import convert_sklearn\n",
    "\n",
    "initial_type = convert_to_onnx_schema(X)\n",
    "print('The ONNX input schema:', initial_type)\n",
    "\n",
    "\n",
    "onnx_filename = 'titanic.onnx'\n",
    "onnx_model = convert_sklearn(model, initial_types=initial_type)\n",
    "with open(onnx_filename, \"wb\") as f:\n",
    "    f.write(onnx_model.SerializeToString())\n",
    "    print('The model has been successfully saved in %s;' % onnx_filename)"
   ],
   "outputs": [
    {
     "output_type": "stream",
     "name": "stdout",
     "text": [
      "The ONNX input schema: [('Age', FloatTensorType(shape=[None, 1])), ('Fare', FloatTensorType(shape=[None, 1])), ('Pclass', StringTensorType(shape=[None, 1])), ('Sex', StringTensorType(shape=[None, 1]))]\n",
      "The model has been successfully saved in titanic.onnx;\n"
     ]
    }
   ],
   "metadata": {}
  },
  {
   "cell_type": "markdown",
   "source": [
    "Score ONNX model using the test data."
   ],
   "metadata": {}
  },
  {
   "cell_type": "code",
   "execution_count": 12,
   "source": [
    "def convert_to_onnx_inputs(df):\n",
    "    inputs = {c: df[c].values for c in df.columns}\n",
    "    for c in numeric_features:\n",
    "        inputs[c] = inputs[c].astype(np.float32)\n",
    "    for k in inputs:\n",
    "        inputs[k] = inputs[k].reshape((inputs[k].shape[0], 1))\n",
    "    return inputs\n"
   ],
   "outputs": [],
   "metadata": {}
  },
  {
   "cell_type": "code",
   "execution_count": 20,
   "source": [
    "import onnxruntime as rt\n",
    "\n",
    "onnx_inputs = convert_to_onnx_inputs(X_test)\n",
    "\n",
    "sess = rt.InferenceSession(onnx_filename)\n",
    "y_onnx_pred, y_onnx_probas = sess.run(None, onnx_inputs)\n",
    "onnx_accuracy = accuracy_score(y_test, y_onnx_pred)\n",
    "print('The ONNX model accuracy: %.2f' % onnx_accuracy)"
   ],
   "outputs": [
    {
     "output_type": "stream",
     "name": "stdout",
     "text": [
      "The ONNX model accuracy: 0.80\n"
     ]
    }
   ],
   "metadata": {}
  },
  {
   "cell_type": "code",
   "execution_count": 14,
   "source": [
    "from sklearn.metrics import confusion_matrix\n",
    "cm = confusion_matrix(y_pred, y_onnx_pred)\n",
    "cm"
   ],
   "outputs": [
    {
     "output_type": "execute_result",
     "data": {
      "text/plain": [
       "array([[198,   1],\n",
       "       [  1,  93]])"
      ]
     },
     "metadata": {},
     "execution_count": 14
    }
   ],
   "metadata": {}
  },
  {
   "cell_type": "code",
   "execution_count": 19,
   "source": [
    "import seaborn as sn\n",
    "import pandas as pd\n",
    "import matplotlib.pyplot as plt\n",
    "\n",
    "df_cm = pd.DataFrame(cm, range(2), range(2))\n",
    "sn.heatmap(df_cm, annot=True, fmt='d')\n",
    "\n",
    "plt.show()"
   ],
   "outputs": [
    {
     "output_type": "display_data",
     "data": {
      "text/plain": [
       "<Figure size 432x288 with 2 Axes>"
      ],
      "image/svg+xml": "<?xml version=\"1.0\" encoding=\"utf-8\" standalone=\"no\"?>\n<!DOCTYPE svg PUBLIC \"-//W3C//DTD SVG 1.1//EN\"\n  \"http://www.w3.org/Graphics/SVG/1.1/DTD/svg11.dtd\">\n<svg height=\"256.244312pt\" version=\"1.1\" viewBox=\"0 0 373.151063 256.244312\" width=\"373.151063pt\" xmlns=\"http://www.w3.org/2000/svg\" xmlns:xlink=\"http://www.w3.org/1999/xlink\">\n <metadata>\n  <rdf:RDF xmlns:cc=\"http://creativecommons.org/ns#\" xmlns:dc=\"http://purl.org/dc/elements/1.1/\" xmlns:rdf=\"http://www.w3.org/1999/02/22-rdf-syntax-ns#\">\n   <cc:Work>\n    <dc:type rdf:resource=\"http://purl.org/dc/dcmitype/StillImage\"/>\n    <dc:date>2021-08-27T22:37:24.607540</dc:date>\n    <dc:format>image/svg+xml</dc:format>\n    <dc:creator>\n     <cc:Agent>\n      <dc:title>Matplotlib v3.4.3, https://matplotlib.org/</dc:title>\n     </cc:Agent>\n    </dc:creator>\n   </cc:Work>\n  </rdf:RDF>\n </metadata>\n <defs>\n  <style type=\"text/css\">*{stroke-linecap:butt;stroke-linejoin:round;}</style>\n </defs>\n <g id=\"figure_1\">\n  <g id=\"patch_1\">\n   <path d=\"M 0 256.244312 \nL 373.151063 256.244312 \nL 373.151063 0 \nL 0 0 \nz\n\" style=\"fill:#ffffff;\"/>\n  </g>\n  <g id=\"axes_1\">\n   <g id=\"patch_2\">\n    <path d=\"M 31.604312 224.64 \nL 299.444313 224.64 \nL 299.444313 7.2 \nL 31.604312 7.2 \nz\n\" style=\"fill:#eaeaf2;\"/>\n   </g>\n   <g id=\"matplotlib.axis_1\">\n    <g id=\"xtick_1\">\n     <g id=\"text_1\">\n      <!-- 0 -->\n      <g style=\"fill:#262626;\" transform=\"translate(93.665188 245.841594)scale(0.154 -0.154)\">\n       <defs>\n        <path d=\"M 2034 4250 \nQ 1547 4250 1301 3770 \nQ 1056 3291 1056 2328 \nQ 1056 1369 1301 889 \nQ 1547 409 2034 409 \nQ 2525 409 2770 889 \nQ 3016 1369 3016 2328 \nQ 3016 3291 2770 3770 \nQ 2525 4250 2034 4250 \nz\nM 2034 4750 \nQ 2819 4750 3233 4129 \nQ 3647 3509 3647 2328 \nQ 3647 1150 3233 529 \nQ 2819 -91 2034 -91 \nQ 1250 -91 836 529 \nQ 422 1150 422 2328 \nQ 422 3509 836 4129 \nQ 1250 4750 2034 4750 \nz\n\" id=\"DejaVuSans-30\" transform=\"scale(0.015625)\"/>\n       </defs>\n       <use xlink:href=\"#DejaVuSans-30\"/>\n      </g>\n     </g>\n    </g>\n    <g id=\"xtick_2\">\n     <g id=\"text_2\">\n      <!-- 1 -->\n      <g style=\"fill:#262626;\" transform=\"translate(227.585188 245.841594)scale(0.154 -0.154)\">\n       <defs>\n        <path d=\"M 794 531 \nL 1825 531 \nL 1825 4091 \nL 703 3866 \nL 703 4441 \nL 1819 4666 \nL 2450 4666 \nL 2450 531 \nL 3481 531 \nL 3481 0 \nL 794 0 \nL 794 531 \nz\n\" id=\"DejaVuSans-31\" transform=\"scale(0.015625)\"/>\n       </defs>\n       <use xlink:href=\"#DejaVuSans-31\"/>\n      </g>\n     </g>\n    </g>\n   </g>\n   <g id=\"matplotlib.axis_2\">\n    <g id=\"ytick_1\">\n     <g id=\"text_3\">\n      <!-- 0 -->\n      <g style=\"fill:#262626;\" transform=\"translate(18.901594 66.459125)rotate(-90)scale(0.154 -0.154)\">\n       <use xlink:href=\"#DejaVuSans-30\"/>\n      </g>\n     </g>\n    </g>\n    <g id=\"ytick_2\">\n     <g id=\"text_4\">\n      <!-- 1 -->\n      <g style=\"fill:#262626;\" transform=\"translate(18.901594 175.179125)rotate(-90)scale(0.154 -0.154)\">\n       <use xlink:href=\"#DejaVuSans-31\"/>\n      </g>\n     </g>\n    </g>\n   </g>\n   <g id=\"QuadMesh_1\">\n    <path clip-path=\"url(#p8135c647fa)\" d=\"M 31.604312 7.2 \nL 165.524313 7.2 \nL 165.524313 115.92 \nL 31.604312 115.92 \nL 31.604312 7.2 \n\" style=\"fill:#faebdd;\"/>\n    <path clip-path=\"url(#p8135c647fa)\" d=\"M 165.524313 7.2 \nL 299.444313 7.2 \nL 299.444313 115.92 \nL 165.524313 115.92 \nL 165.524313 7.2 \n\" style=\"fill:#03051a;\"/>\n    <path clip-path=\"url(#p8135c647fa)\" d=\"M 31.604312 115.92 \nL 165.524313 115.92 \nL 165.524313 224.64 \nL 31.604312 224.64 \nL 31.604312 115.92 \n\" style=\"fill:#03051a;\"/>\n    <path clip-path=\"url(#p8135c647fa)\" d=\"M 165.524313 115.92 \nL 299.444313 115.92 \nL 299.444313 224.64 \nL 165.524313 224.64 \nL 165.524313 115.92 \n\" style=\"fill:#bd1655;\"/>\n   </g>\n   <g id=\"text_5\">\n    <!-- 198 -->\n    <g style=\"fill:#262626;\" transform=\"translate(82.530812 66.19575)scale(0.168 -0.168)\">\n     <defs>\n      <path d=\"M 703 97 \nL 703 672 \nQ 941 559 1184 500 \nQ 1428 441 1663 441 \nQ 2288 441 2617 861 \nQ 2947 1281 2994 2138 \nQ 2813 1869 2534 1725 \nQ 2256 1581 1919 1581 \nQ 1219 1581 811 2004 \nQ 403 2428 403 3163 \nQ 403 3881 828 4315 \nQ 1253 4750 1959 4750 \nQ 2769 4750 3195 4129 \nQ 3622 3509 3622 2328 \nQ 3622 1225 3098 567 \nQ 2575 -91 1691 -91 \nQ 1453 -91 1209 -44 \nQ 966 3 703 97 \nz\nM 1959 2075 \nQ 2384 2075 2632 2365 \nQ 2881 2656 2881 3163 \nQ 2881 3666 2632 3958 \nQ 2384 4250 1959 4250 \nQ 1534 4250 1286 3958 \nQ 1038 3666 1038 3163 \nQ 1038 2656 1286 2365 \nQ 1534 2075 1959 2075 \nz\n\" id=\"DejaVuSans-39\" transform=\"scale(0.015625)\"/>\n      <path d=\"M 2034 2216 \nQ 1584 2216 1326 1975 \nQ 1069 1734 1069 1313 \nQ 1069 891 1326 650 \nQ 1584 409 2034 409 \nQ 2484 409 2743 651 \nQ 3003 894 3003 1313 \nQ 3003 1734 2745 1975 \nQ 2488 2216 2034 2216 \nz\nM 1403 2484 \nQ 997 2584 770 2862 \nQ 544 3141 544 3541 \nQ 544 4100 942 4425 \nQ 1341 4750 2034 4750 \nQ 2731 4750 3128 4425 \nQ 3525 4100 3525 3541 \nQ 3525 3141 3298 2862 \nQ 3072 2584 2669 2484 \nQ 3125 2378 3379 2068 \nQ 3634 1759 3634 1313 \nQ 3634 634 3220 271 \nQ 2806 -91 2034 -91 \nQ 1263 -91 848 271 \nQ 434 634 434 1313 \nQ 434 1759 690 2068 \nQ 947 2378 1403 2484 \nz\nM 1172 3481 \nQ 1172 3119 1398 2916 \nQ 1625 2713 2034 2713 \nQ 2441 2713 2670 2916 \nQ 2900 3119 2900 3481 \nQ 2900 3844 2670 4047 \nQ 2441 4250 2034 4250 \nQ 1625 4250 1398 4047 \nQ 1172 3844 1172 3481 \nz\n\" id=\"DejaVuSans-38\" transform=\"scale(0.015625)\"/>\n     </defs>\n     <use xlink:href=\"#DejaVuSans-31\"/>\n     <use x=\"63.623047\" xlink:href=\"#DejaVuSans-39\"/>\n     <use x=\"127.246094\" xlink:href=\"#DejaVuSans-38\"/>\n    </g>\n   </g>\n   <g id=\"text_6\">\n    <!-- 1 -->\n    <g style=\"fill:#ffffff;\" transform=\"translate(227.139813 66.19575)scale(0.168 -0.168)\">\n     <use xlink:href=\"#DejaVuSans-31\"/>\n    </g>\n   </g>\n   <g id=\"text_7\">\n    <!-- 1 -->\n    <g style=\"fill:#ffffff;\" transform=\"translate(93.219813 174.91575)scale(0.168 -0.168)\">\n     <use xlink:href=\"#DejaVuSans-31\"/>\n    </g>\n   </g>\n   <g id=\"text_8\">\n    <!-- 93 -->\n    <g style=\"fill:#ffffff;\" transform=\"translate(221.795313 174.91575)scale(0.168 -0.168)\">\n     <defs>\n      <path d=\"M 2597 2516 \nQ 3050 2419 3304 2112 \nQ 3559 1806 3559 1356 \nQ 3559 666 3084 287 \nQ 2609 -91 1734 -91 \nQ 1441 -91 1130 -33 \nQ 819 25 488 141 \nL 488 750 \nQ 750 597 1062 519 \nQ 1375 441 1716 441 \nQ 2309 441 2620 675 \nQ 2931 909 2931 1356 \nQ 2931 1769 2642 2001 \nQ 2353 2234 1838 2234 \nL 1294 2234 \nL 1294 2753 \nL 1863 2753 \nQ 2328 2753 2575 2939 \nQ 2822 3125 2822 3475 \nQ 2822 3834 2567 4026 \nQ 2313 4219 1838 4219 \nQ 1578 4219 1281 4162 \nQ 984 4106 628 3988 \nL 628 4550 \nQ 988 4650 1302 4700 \nQ 1616 4750 1894 4750 \nQ 2613 4750 3031 4423 \nQ 3450 4097 3450 3541 \nQ 3450 3153 3228 2886 \nQ 3006 2619 2597 2516 \nz\n\" id=\"DejaVuSans-33\" transform=\"scale(0.015625)\"/>\n     </defs>\n     <use xlink:href=\"#DejaVuSans-39\"/>\n     <use x=\"63.623047\" xlink:href=\"#DejaVuSans-33\"/>\n    </g>\n   </g>\n  </g>\n  <g id=\"axes_2\">\n   <g id=\"patch_3\">\n    <path d=\"M 316.184313 224.64 \nL 327.056313 224.64 \nL 327.056313 7.2 \nL 316.184313 7.2 \nz\n\" style=\"fill:#eaeaf2;\"/>\n   </g>\n   <g id=\"patch_4\">\n    <path clip-path=\"url(#p13a53633d6)\" d=\"M 316.184313 224.64 \nL 316.184313 223.790625 \nL 316.184313 8.049375 \nL 316.184313 7.2 \nL 327.056312 7.2 \nL 327.056312 8.049375 \nL 327.056312 223.790625 \nL 327.056312 224.64 \nL 327.056312 224.64 \nz\n\" style=\"fill:#eaeaf2;stroke:#eaeaf2;stroke-linejoin:miter;stroke-width:0.01;\"/>\n   </g>\n   <g id=\"matplotlib.axis_3\"/>\n   <g id=\"matplotlib.axis_4\">\n    <g id=\"ytick_3\">\n     <g id=\"line2d_1\">\n      <defs>\n       <path d=\"M 0 0 \nL 6 0 \n\" id=\"ma8eee92d75\" style=\"stroke:#262626;stroke-width:1.25;\"/>\n      </defs>\n      <g>\n       <use style=\"fill:#262626;stroke:#262626;stroke-width:1.25;\" x=\"327.056313\" xlink:href=\"#ma8eee92d75\" y=\"170.555939\"/>\n      </g>\n     </g>\n     <g id=\"text_9\">\n      <!-- 50 -->\n      <g style=\"fill:#262626;\" transform=\"translate(336.556313 176.406736)scale(0.154 -0.154)\">\n       <defs>\n        <path d=\"M 691 4666 \nL 3169 4666 \nL 3169 4134 \nL 1269 4134 \nL 1269 2991 \nQ 1406 3038 1543 3061 \nQ 1681 3084 1819 3084 \nQ 2600 3084 3056 2656 \nQ 3513 2228 3513 1497 \nQ 3513 744 3044 326 \nQ 2575 -91 1722 -91 \nQ 1428 -91 1123 -41 \nQ 819 9 494 109 \nL 494 744 \nQ 775 591 1075 516 \nQ 1375 441 1709 441 \nQ 2250 441 2565 725 \nQ 2881 1009 2881 1497 \nQ 2881 1984 2565 2268 \nQ 2250 2553 1709 2553 \nQ 1456 2553 1204 2497 \nQ 953 2441 691 2322 \nL 691 4666 \nz\n\" id=\"DejaVuSans-35\" transform=\"scale(0.015625)\"/>\n       </defs>\n       <use xlink:href=\"#DejaVuSans-35\"/>\n       <use x=\"63.623047\" xlink:href=\"#DejaVuSans-30\"/>\n      </g>\n     </g>\n    </g>\n    <g id=\"ytick_4\">\n     <g id=\"line2d_2\">\n      <g>\n       <use style=\"fill:#262626;stroke:#262626;stroke-width:1.25;\" x=\"327.056313\" xlink:href=\"#ma8eee92d75\" y=\"115.368122\"/>\n      </g>\n     </g>\n     <g id=\"text_10\">\n      <!-- 100 -->\n      <g style=\"fill:#262626;\" transform=\"translate(336.556313 121.218919)scale(0.154 -0.154)\">\n       <use xlink:href=\"#DejaVuSans-31\"/>\n       <use x=\"63.623047\" xlink:href=\"#DejaVuSans-30\"/>\n       <use x=\"127.246094\" xlink:href=\"#DejaVuSans-30\"/>\n      </g>\n     </g>\n    </g>\n    <g id=\"ytick_5\">\n     <g id=\"line2d_3\">\n      <g>\n       <use style=\"fill:#262626;stroke:#262626;stroke-width:1.25;\" x=\"327.056313\" xlink:href=\"#ma8eee92d75\" y=\"60.180305\"/>\n      </g>\n     </g>\n     <g id=\"text_11\">\n      <!-- 150 -->\n      <g style=\"fill:#262626;\" transform=\"translate(336.556313 66.031101)scale(0.154 -0.154)\">\n       <use xlink:href=\"#DejaVuSans-31\"/>\n       <use x=\"63.623047\" xlink:href=\"#DejaVuSans-35\"/>\n       <use x=\"127.246094\" xlink:href=\"#DejaVuSans-30\"/>\n      </g>\n     </g>\n    </g>\n   </g>\n   <image height=\"217\" id=\"imagea94852e3a8\" transform=\"scale(1 -1)translate(0 -217)\" width=\"11\" x=\"316\" xlink:href=\"data:image/png;base64,\niVBORw0KGgoAAAANSUhEUgAAAAsAAADZCAYAAAD2WsoCAAABTUlEQVR4nO3ZMY7DMAxEUctWLpH73zNbb6dXfIBZrGti8DkcS7K89uv9uQ6fvdY6rdXiq1K+pfhZd4Xx1xukCRJz5zO6IcWdG5myuTGkwXDcI5jD8H/hBIe4Ea78Zt35Y+En5W7cHUYX/tK6SnlbRAFjzLhBuWQegWHhP/48iN2AYmuQMMSNrkFzI5ugjXsGRuhGmI1z6b07jA9glEsBYDwZMzbYWSfZgJewZBaMW4ofajDDgANjiXHDkoQNirK5YcqSDVj6TXmIGzc1SMzweqt1okzM5gZhVMVXh7E7DDhsh8pwiAiZL1FGDFF+4LaHlLG4wlhw4tiX3H11bqzMjes5v+EIh9L5bNaZG1me5drQlOFCS4civ0jCbHTj7taNrJiCtM93+rLBcNzS4BDmGW6s1W0TQ9x4jcCwH80ylCnhn7EBkRv/Df7COG/wBxHLLSNgj5l/AAAAAElFTkSuQmCC\" y=\"-7\"/>\n   <g id=\"LineCollection_1\"/>\n   <g id=\"patch_5\">\n    <path d=\"M 316.184313 224.64 \nL 316.184313 223.790625 \nL 316.184313 8.049375 \nL 316.184313 7.2 \nL 327.056312 7.2 \nL 327.056312 8.049375 \nL 327.056312 223.790625 \nL 327.056312 224.64 \nz\n\" style=\"fill:none;\"/>\n   </g>\n  </g>\n </g>\n <defs>\n  <clipPath id=\"p8135c647fa\">\n   <rect height=\"217.44\" width=\"267.84\" x=\"31.604312\" y=\"7.2\"/>\n  </clipPath>\n  <clipPath id=\"p13a53633d6\">\n   <rect height=\"217.44\" width=\"10.872\" x=\"316.184313\" y=\"7.2\"/>\n  </clipPath>\n </defs>\n</svg>\n",
      "image/png": "[encoded data removed]"
     },
     "metadata": {}
    }
   ],
   "metadata": {}
  },
  {
   "cell_type": "code",
   "execution_count": 37,
   "source": [
    "df_probas = pd.DataFrame(y_probas)\n",
    "df_onnx_probas = pd.DataFrame(y_onnx_probas)\n",
    "\n",
    "df_diff = df_probas - df_onnx_probas\n",
    "df_diff.describe()\n",
    "df_diff.boxplot()\n"
   ],
   "outputs": [
    {
     "output_type": "execute_result",
     "data": {
      "text/plain": [
       "<AxesSubplot:>"
      ]
     },
     "metadata": {},
     "execution_count": 37
    },
    {
     "output_type": "display_data",
     "data": {
      "text/plain": [
       "<Figure size 432x288 with 1 Axes>"
      ],
      "image/svg+xml": "<?xml version=\"1.0\" encoding=\"utf-8\" standalone=\"no\"?>\n<!DOCTYPE svg PUBLIC \"-//W3C//DTD SVG 1.1//EN\"\n  \"http://www.w3.org/Graphics/SVG/1.1/DTD/svg11.dtd\">\n<svg height=\"256.244312pt\" version=\"1.1\" viewBox=\"0 0 396.095531 256.244312\" width=\"396.095531pt\" xmlns=\"http://www.w3.org/2000/svg\" xmlns:xlink=\"http://www.w3.org/1999/xlink\">\n <metadata>\n  <rdf:RDF xmlns:cc=\"http://creativecommons.org/ns#\" xmlns:dc=\"http://purl.org/dc/elements/1.1/\" xmlns:rdf=\"http://www.w3.org/1999/02/22-rdf-syntax-ns#\">\n   <cc:Work>\n    <dc:type rdf:resource=\"http://purl.org/dc/dcmitype/StillImage\"/>\n    <dc:date>2021-08-27T22:50:28.933764</dc:date>\n    <dc:format>image/svg+xml</dc:format>\n    <dc:creator>\n     <cc:Agent>\n      <dc:title>Matplotlib v3.4.3, https://matplotlib.org/</dc:title>\n     </cc:Agent>\n    </dc:creator>\n   </cc:Work>\n  </rdf:RDF>\n </metadata>\n <defs>\n  <style type=\"text/css\">*{stroke-linecap:butt;stroke-linejoin:round;}</style>\n </defs>\n <g id=\"figure_1\">\n  <g id=\"patch_1\">\n   <path d=\"M 0 256.244312 \nL 396.095531 256.244312 \nL 396.095531 0 \nL 0 0 \nz\n\" style=\"fill:#ffffff;\"/>\n  </g>\n  <g id=\"axes_1\">\n   <g id=\"patch_2\">\n    <path d=\"M 54.095531 224.64 \nL 388.895531 224.64 \nL 388.895531 7.2 \nL 54.095531 7.2 \nz\n\" style=\"fill:#eaeaf2;\"/>\n   </g>\n   <g id=\"matplotlib.axis_1\">\n    <g id=\"xtick_1\">\n     <g id=\"line2d_1\">\n      <path clip-path=\"url(#p0d26f0fc20)\" d=\"M 137.795531 224.64 \nL 137.795531 7.2 \n\" style=\"fill:none;stroke:#ffffff;stroke-linecap:round;\"/>\n     </g>\n     <g id=\"text_1\">\n      <!-- 0 -->\n      <g style=\"fill:#262626;\" transform=\"translate(132.896406 245.841594)scale(0.154 -0.154)\">\n       <defs>\n        <path d=\"M 2034 4250 \nQ 1547 4250 1301 3770 \nQ 1056 3291 1056 2328 \nQ 1056 1369 1301 889 \nQ 1547 409 2034 409 \nQ 2525 409 2770 889 \nQ 3016 1369 3016 2328 \nQ 3016 3291 2770 3770 \nQ 2525 4250 2034 4250 \nz\nM 2034 4750 \nQ 2819 4750 3233 4129 \nQ 3647 3509 3647 2328 \nQ 3647 1150 3233 529 \nQ 2819 -91 2034 -91 \nQ 1250 -91 836 529 \nQ 422 1150 422 2328 \nQ 422 3509 836 4129 \nQ 1250 4750 2034 4750 \nz\n\" id=\"DejaVuSans-30\" transform=\"scale(0.015625)\"/>\n       </defs>\n       <use xlink:href=\"#DejaVuSans-30\"/>\n      </g>\n     </g>\n    </g>\n    <g id=\"xtick_2\">\n     <g id=\"line2d_2\">\n      <path clip-path=\"url(#p0d26f0fc20)\" d=\"M 305.195531 224.64 \nL 305.195531 7.2 \n\" style=\"fill:none;stroke:#ffffff;stroke-linecap:round;\"/>\n     </g>\n     <g id=\"text_2\">\n      <!-- 1 -->\n      <g style=\"fill:#262626;\" transform=\"translate(300.296406 245.841594)scale(0.154 -0.154)\">\n       <defs>\n        <path d=\"M 794 531 \nL 1825 531 \nL 1825 4091 \nL 703 3866 \nL 703 4441 \nL 1819 4666 \nL 2450 4666 \nL 2450 531 \nL 3481 531 \nL 3481 0 \nL 794 0 \nL 794 531 \nz\n\" id=\"DejaVuSans-31\" transform=\"scale(0.015625)\"/>\n       </defs>\n       <use xlink:href=\"#DejaVuSans-31\"/>\n      </g>\n     </g>\n    </g>\n   </g>\n   <g id=\"matplotlib.axis_2\">\n    <g id=\"ytick_1\">\n     <g id=\"line2d_3\">\n      <path clip-path=\"url(#p0d26f0fc20)\" d=\"M 54.095531 208.044428 \nL 388.895531 208.044428 \n\" style=\"fill:none;stroke:#ffffff;stroke-linecap:round;\"/>\n     </g>\n     <g id=\"text_3\">\n      <!-- −0.2 -->\n      <g style=\"fill:#262626;\" transform=\"translate(7.2 213.895225)scale(0.154 -0.154)\">\n       <defs>\n        <path d=\"M 678 2272 \nL 4684 2272 \nL 4684 1741 \nL 678 1741 \nL 678 2272 \nz\n\" id=\"DejaVuSans-2212\" transform=\"scale(0.015625)\"/>\n        <path d=\"M 684 794 \nL 1344 794 \nL 1344 0 \nL 684 0 \nL 684 794 \nz\n\" id=\"DejaVuSans-2e\" transform=\"scale(0.015625)\"/>\n        <path d=\"M 1228 531 \nL 3431 531 \nL 3431 0 \nL 469 0 \nL 469 531 \nQ 828 903 1448 1529 \nQ 2069 2156 2228 2338 \nQ 2531 2678 2651 2914 \nQ 2772 3150 2772 3378 \nQ 2772 3750 2511 3984 \nQ 2250 4219 1831 4219 \nQ 1534 4219 1204 4116 \nQ 875 4013 500 3803 \nL 500 4441 \nQ 881 4594 1212 4672 \nQ 1544 4750 1819 4750 \nQ 2544 4750 2975 4387 \nQ 3406 4025 3406 3419 \nQ 3406 3131 3298 2873 \nQ 3191 2616 2906 2266 \nQ 2828 2175 2409 1742 \nQ 1991 1309 1228 531 \nz\n\" id=\"DejaVuSans-32\" transform=\"scale(0.015625)\"/>\n       </defs>\n       <use xlink:href=\"#DejaVuSans-2212\"/>\n       <use x=\"83.789062\" xlink:href=\"#DejaVuSans-30\"/>\n       <use x=\"147.412109\" xlink:href=\"#DejaVuSans-2e\"/>\n       <use x=\"179.199219\" xlink:href=\"#DejaVuSans-32\"/>\n      </g>\n     </g>\n    </g>\n    <g id=\"ytick_2\">\n     <g id=\"line2d_4\">\n      <path clip-path=\"url(#p0d26f0fc20)\" d=\"M 54.095531 161.982214 \nL 388.895531 161.982214 \n\" style=\"fill:none;stroke:#ffffff;stroke-linecap:round;\"/>\n     </g>\n     <g id=\"text_4\">\n      <!-- −0.1 -->\n      <g style=\"fill:#262626;\" transform=\"translate(7.2 167.833011)scale(0.154 -0.154)\">\n       <use xlink:href=\"#DejaVuSans-2212\"/>\n       <use x=\"83.789062\" xlink:href=\"#DejaVuSans-30\"/>\n       <use x=\"147.412109\" xlink:href=\"#DejaVuSans-2e\"/>\n       <use x=\"179.199219\" xlink:href=\"#DejaVuSans-31\"/>\n      </g>\n     </g>\n    </g>\n    <g id=\"ytick_3\">\n     <g id=\"line2d_5\">\n      <path clip-path=\"url(#p0d26f0fc20)\" d=\"M 54.095531 115.92 \nL 388.895531 115.92 \n\" style=\"fill:none;stroke:#ffffff;stroke-linecap:round;\"/>\n     </g>\n     <g id=\"text_5\">\n      <!-- 0.0 -->\n      <g style=\"fill:#262626;\" transform=\"translate(20.104719 121.770797)scale(0.154 -0.154)\">\n       <use xlink:href=\"#DejaVuSans-30\"/>\n       <use x=\"63.623047\" xlink:href=\"#DejaVuSans-2e\"/>\n       <use x=\"95.410156\" xlink:href=\"#DejaVuSans-30\"/>\n      </g>\n     </g>\n    </g>\n    <g id=\"ytick_4\">\n     <g id=\"line2d_6\">\n      <path clip-path=\"url(#p0d26f0fc20)\" d=\"M 54.095531 69.857786 \nL 388.895531 69.857786 \n\" style=\"fill:none;stroke:#ffffff;stroke-linecap:round;\"/>\n     </g>\n     <g id=\"text_6\">\n      <!-- 0.1 -->\n      <g style=\"fill:#262626;\" transform=\"translate(20.104719 75.708583)scale(0.154 -0.154)\">\n       <use xlink:href=\"#DejaVuSans-30\"/>\n       <use x=\"63.623047\" xlink:href=\"#DejaVuSans-2e\"/>\n       <use x=\"95.410156\" xlink:href=\"#DejaVuSans-31\"/>\n      </g>\n     </g>\n    </g>\n    <g id=\"ytick_5\">\n     <g id=\"line2d_7\">\n      <path clip-path=\"url(#p0d26f0fc20)\" d=\"M 54.095531 23.795572 \nL 388.895531 23.795572 \n\" style=\"fill:none;stroke:#ffffff;stroke-linecap:round;\"/>\n     </g>\n     <g id=\"text_7\">\n      <!-- 0.2 -->\n      <g style=\"fill:#262626;\" transform=\"translate(20.104719 29.646369)scale(0.154 -0.154)\">\n       <use xlink:href=\"#DejaVuSans-30\"/>\n       <use x=\"63.623047\" xlink:href=\"#DejaVuSans-2e\"/>\n       <use x=\"95.410156\" xlink:href=\"#DejaVuSans-32\"/>\n      </g>\n     </g>\n    </g>\n   </g>\n   <g id=\"line2d_8\">\n    <path clip-path=\"url(#p0d26f0fc20)\" d=\"M 125.240531 115.92017 \nL 150.350531 115.92017 \nL 150.350531 115.92 \nL 125.240531 115.92 \nL 125.240531 115.92017 \n\" style=\"fill:none;stroke:#4c4c4c;stroke-linecap:round;\"/>\n   </g>\n   <g id=\"line2d_9\">\n    <path clip-path=\"url(#p0d26f0fc20)\" d=\"M 137.795531 115.92017 \nL 137.795531 115.920192 \n\" style=\"fill:none;stroke:#4c4c4c;stroke-linecap:round;\"/>\n   </g>\n   <g id=\"line2d_10\">\n    <path clip-path=\"url(#p0d26f0fc20)\" d=\"M 137.795531 115.92 \nL 137.795531 115.919959 \n\" style=\"fill:none;stroke:#4c4c4c;stroke-linecap:round;\"/>\n   </g>\n   <g id=\"line2d_11\">\n    <path clip-path=\"url(#p0d26f0fc20)\" d=\"M 131.518031 115.920192 \nL 144.073031 115.920192 \n\" style=\"fill:none;stroke:#1a1a1a;stroke-linecap:round;\"/>\n   </g>\n   <g id=\"line2d_12\">\n    <path clip-path=\"url(#p0d26f0fc20)\" d=\"M 131.518031 115.919959 \nL 144.073031 115.919959 \n\" style=\"fill:none;stroke:#1a1a1a;stroke-linecap:round;\"/>\n   </g>\n   <g id=\"line2d_13\">\n    <defs>\n     <path d=\"M 0 3 \nC 0.795609 3 1.55874 2.683901 2.12132 2.12132 \nC 2.683901 1.55874 3 0.795609 3 0 \nC 3 -0.795609 2.683901 -1.55874 2.12132 -2.12132 \nC 1.55874 -2.683901 0.795609 -3 0 -3 \nC -0.795609 -3 -1.55874 -2.683901 -2.12132 -2.12132 \nC -2.683901 -1.55874 -3 -0.795609 -3 0 \nC -3 0.795609 -2.683901 1.55874 -2.12132 2.12132 \nC -1.55874 2.683901 -0.795609 3 0 3 \nz\n\" id=\"m44aaa92831\" style=\"stroke:#000000;\"/>\n    </defs>\n    <g clip-path=\"url(#p0d26f0fc20)\">\n     <use style=\"fill-opacity:0;stroke:#000000;\" x=\"137.795531\" xlink:href=\"#m44aaa92831\" y=\"152.769782\"/>\n     <use style=\"fill-opacity:0;stroke:#000000;\" x=\"137.795531\" xlink:href=\"#m44aaa92831\" y=\"119.374672\"/>\n     <use style=\"fill-opacity:0;stroke:#000000;\" x=\"137.795531\" xlink:href=\"#m44aaa92831\" y=\"125.132467\"/>\n     <use style=\"fill-opacity:0;stroke:#000000;\" x=\"137.795531\" xlink:href=\"#m44aaa92831\" y=\"125.132441\"/>\n     <use style=\"fill-opacity:0;stroke:#000000;\" x=\"137.795531\" xlink:href=\"#m44aaa92831\" y=\"125.132434\"/>\n     <use style=\"fill-opacity:0;stroke:#000000;\" x=\"137.795531\" xlink:href=\"#m44aaa92831\" y=\"134.344875\"/>\n     <use style=\"fill-opacity:0;stroke:#000000;\" x=\"137.795531\" xlink:href=\"#m44aaa92831\" y=\"125.132456\"/>\n     <use style=\"fill-opacity:0;stroke:#000000;\" x=\"137.795531\" xlink:href=\"#m44aaa92831\" y=\"120.526317\"/>\n     <use style=\"fill-opacity:0;stroke:#000000;\" x=\"137.795531\" xlink:href=\"#m44aaa92831\" y=\"120.52623\"/>\n     <use style=\"fill-opacity:0;stroke:#000000;\" x=\"137.795531\" xlink:href=\"#m44aaa92831\" y=\"125.132442\"/>\n     <use style=\"fill-opacity:0;stroke:#000000;\" x=\"137.795531\" xlink:href=\"#m44aaa92831\" y=\"148.163533\"/>\n     <use style=\"fill-opacity:0;stroke:#000000;\" x=\"137.795531\" xlink:href=\"#m44aaa92831\" y=\"122.829376\"/>\n     <use style=\"fill-opacity:0;stroke:#000000;\" x=\"137.795531\" xlink:href=\"#m44aaa92831\" y=\"129.738649\"/>\n     <use style=\"fill-opacity:0;stroke:#000000;\" x=\"137.795531\" xlink:href=\"#m44aaa92831\" y=\"125.132448\"/>\n     <use style=\"fill-opacity:0;stroke:#000000;\" x=\"137.795531\" xlink:href=\"#m44aaa92831\" y=\"125.132449\"/>\n     <use style=\"fill-opacity:0;stroke:#000000;\" x=\"137.795531\" xlink:href=\"#m44aaa92831\" y=\"120.52625\"/>\n     <use style=\"fill-opacity:0;stroke:#000000;\" x=\"137.795531\" xlink:href=\"#m44aaa92831\" y=\"120.526233\"/>\n     <use style=\"fill-opacity:0;stroke:#000000;\" x=\"137.795531\" xlink:href=\"#m44aaa92831\" y=\"157.376001\"/>\n     <use style=\"fill-opacity:0;stroke:#000000;\" x=\"137.795531\" xlink:href=\"#m44aaa92831\" y=\"198.832003\"/>\n     <use style=\"fill-opacity:0;stroke:#000000;\" x=\"137.795531\" xlink:href=\"#m44aaa92831\" y=\"198.831971\"/>\n     <use style=\"fill-opacity:0;stroke:#000000;\" x=\"137.795531\" xlink:href=\"#m44aaa92831\" y=\"129.738698\"/>\n     <use style=\"fill-opacity:0;stroke:#000000;\" x=\"137.795531\" xlink:href=\"#m44aaa92831\" y=\"120.526216\"/>\n     <use style=\"fill-opacity:0;stroke:#000000;\" x=\"137.795531\" xlink:href=\"#m44aaa92831\" y=\"119.374662\"/>\n     <use style=\"fill-opacity:0;stroke:#000000;\" x=\"137.795531\" xlink:href=\"#m44aaa92831\" y=\"214.756364\"/>\n     <use style=\"fill-opacity:0;stroke:#000000;\" x=\"137.795531\" xlink:href=\"#m44aaa92831\" y=\"198.831975\"/>\n     <use style=\"fill-opacity:0;stroke:#000000;\" x=\"137.795531\" xlink:href=\"#m44aaa92831\" y=\"138.951116\"/>\n     <use style=\"fill-opacity:0;stroke:#000000;\" x=\"137.795531\" xlink:href=\"#m44aaa92831\" y=\"120.526383\"/>\n     <use style=\"fill-opacity:0;stroke:#000000;\" x=\"137.795531\" xlink:href=\"#m44aaa92831\" y=\"125.132516\"/>\n     <use style=\"fill-opacity:0;stroke:#000000;\" x=\"137.795531\" xlink:href=\"#m44aaa92831\" y=\"116.841255\"/>\n     <use style=\"fill-opacity:0;stroke:#000000;\" x=\"137.795531\" xlink:href=\"#m44aaa92831\" y=\"116.687704\"/>\n     <use style=\"fill-opacity:0;stroke:#000000;\" x=\"137.795531\" xlink:href=\"#m44aaa92831\" y=\"118.990827\"/>\n     <use style=\"fill-opacity:0;stroke:#000000;\" x=\"137.795531\" xlink:href=\"#m44aaa92831\" y=\"148.163597\"/>\n     <use style=\"fill-opacity:0;stroke:#000000;\" x=\"137.795531\" xlink:href=\"#m44aaa92831\" y=\"111.313783\"/>\n     <use style=\"fill-opacity:0;stroke:#000000;\" x=\"137.795531\" xlink:href=\"#m44aaa92831\" y=\"88.28268\"/>\n     <use style=\"fill-opacity:0;stroke:#000000;\" x=\"137.795531\" xlink:href=\"#m44aaa92831\" y=\"102.101506\"/>\n     <use style=\"fill-opacity:0;stroke:#000000;\" x=\"137.795531\" xlink:href=\"#m44aaa92831\" y=\"111.313783\"/>\n     <use style=\"fill-opacity:0;stroke:#000000;\" x=\"137.795531\" xlink:href=\"#m44aaa92831\" y=\"106.707565\"/>\n     <use style=\"fill-opacity:0;stroke:#000000;\" x=\"137.795531\" xlink:href=\"#m44aaa92831\" y=\"88.282671\"/>\n     <use style=\"fill-opacity:0;stroke:#000000;\" x=\"137.795531\" xlink:href=\"#m44aaa92831\" y=\"102.10133\"/>\n     <use style=\"fill-opacity:0;stroke:#000000;\" x=\"137.795531\" xlink:href=\"#m44aaa92831\" y=\"111.313773\"/>\n     <use style=\"fill-opacity:0;stroke:#000000;\" x=\"137.795531\" xlink:href=\"#m44aaa92831\" y=\"79.070384\"/>\n     <use style=\"fill-opacity:0;stroke:#000000;\" x=\"137.795531\" xlink:href=\"#m44aaa92831\" y=\"111.313763\"/>\n     <use style=\"fill-opacity:0;stroke:#000000;\" x=\"137.795531\" xlink:href=\"#m44aaa92831\" y=\"113.616879\"/>\n     <use style=\"fill-opacity:0;stroke:#000000;\" x=\"137.795531\" xlink:href=\"#m44aaa92831\" y=\"111.313773\"/>\n     <use style=\"fill-opacity:0;stroke:#000000;\" x=\"137.795531\" xlink:href=\"#m44aaa92831\" y=\"111.313787\"/>\n     <use style=\"fill-opacity:0;stroke:#000000;\" x=\"137.795531\" xlink:href=\"#m44aaa92831\" y=\"97.495135\"/>\n     <use style=\"fill-opacity:0;stroke:#000000;\" x=\"137.795531\" xlink:href=\"#m44aaa92831\" y=\"88.282676\"/>\n     <use style=\"fill-opacity:0;stroke:#000000;\" x=\"137.795531\" xlink:href=\"#m44aaa92831\" y=\"111.313792\"/>\n     <use style=\"fill-opacity:0;stroke:#000000;\" x=\"137.795531\" xlink:href=\"#m44aaa92831\" y=\"88.282645\"/>\n     <use style=\"fill-opacity:0;stroke:#000000;\" x=\"137.795531\" xlink:href=\"#m44aaa92831\" y=\"111.313773\"/>\n     <use style=\"fill-opacity:0;stroke:#000000;\" x=\"137.795531\" xlink:href=\"#m44aaa92831\" y=\"21.492472\"/>\n    </g>\n   </g>\n   <g id=\"line2d_14\">\n    <path clip-path=\"url(#p0d26f0fc20)\" d=\"M 292.640531 115.92 \nL 317.750531 115.92 \nL 317.750531 115.91983 \nL 292.640531 115.91983 \nL 292.640531 115.92 \n\" style=\"fill:none;stroke:#4c4c4c;stroke-linecap:round;\"/>\n   </g>\n   <g id=\"line2d_15\">\n    <path clip-path=\"url(#p0d26f0fc20)\" d=\"M 305.195531 115.92 \nL 305.195531 115.920041 \n\" style=\"fill:none;stroke:#4c4c4c;stroke-linecap:round;\"/>\n   </g>\n   <g id=\"line2d_16\">\n    <path clip-path=\"url(#p0d26f0fc20)\" d=\"M 305.195531 115.91983 \nL 305.195531 115.919808 \n\" style=\"fill:none;stroke:#4c4c4c;stroke-linecap:round;\"/>\n   </g>\n   <g id=\"line2d_17\">\n    <path clip-path=\"url(#p0d26f0fc20)\" d=\"M 298.918031 115.920041 \nL 311.473031 115.920041 \n\" style=\"fill:none;stroke:#1a1a1a;stroke-linecap:round;\"/>\n   </g>\n   <g id=\"line2d_18\">\n    <path clip-path=\"url(#p0d26f0fc20)\" d=\"M 298.918031 115.919808 \nL 311.473031 115.919808 \n\" style=\"fill:none;stroke:#1a1a1a;stroke-linecap:round;\"/>\n   </g>\n   <g id=\"line2d_19\">\n    <g clip-path=\"url(#p0d26f0fc20)\">\n     <use style=\"fill-opacity:0;stroke:#000000;\" x=\"305.195531\" xlink:href=\"#m44aaa92831\" y=\"120.526221\"/>\n     <use style=\"fill-opacity:0;stroke:#000000;\" x=\"305.195531\" xlink:href=\"#m44aaa92831\" y=\"143.55732\"/>\n     <use style=\"fill-opacity:0;stroke:#000000;\" x=\"305.195531\" xlink:href=\"#m44aaa92831\" y=\"129.738494\"/>\n     <use style=\"fill-opacity:0;stroke:#000000;\" x=\"305.195531\" xlink:href=\"#m44aaa92831\" y=\"120.526217\"/>\n     <use style=\"fill-opacity:0;stroke:#000000;\" x=\"305.195531\" xlink:href=\"#m44aaa92831\" y=\"125.132435\"/>\n     <use style=\"fill-opacity:0;stroke:#000000;\" x=\"305.195531\" xlink:href=\"#m44aaa92831\" y=\"143.557329\"/>\n     <use style=\"fill-opacity:0;stroke:#000000;\" x=\"305.195531\" xlink:href=\"#m44aaa92831\" y=\"129.73867\"/>\n     <use style=\"fill-opacity:0;stroke:#000000;\" x=\"305.195531\" xlink:href=\"#m44aaa92831\" y=\"120.526227\"/>\n     <use style=\"fill-opacity:0;stroke:#000000;\" x=\"305.195531\" xlink:href=\"#m44aaa92831\" y=\"152.769616\"/>\n     <use style=\"fill-opacity:0;stroke:#000000;\" x=\"305.195531\" xlink:href=\"#m44aaa92831\" y=\"120.526223\"/>\n     <use style=\"fill-opacity:0;stroke:#000000;\" x=\"305.195531\" xlink:href=\"#m44aaa92831\" y=\"118.22311\"/>\n     <use style=\"fill-opacity:0;stroke:#000000;\" x=\"305.195531\" xlink:href=\"#m44aaa92831\" y=\"120.52622\"/>\n     <use style=\"fill-opacity:0;stroke:#000000;\" x=\"305.195531\" xlink:href=\"#m44aaa92831\" y=\"120.526213\"/>\n     <use style=\"fill-opacity:0;stroke:#000000;\" x=\"305.195531\" xlink:href=\"#m44aaa92831\" y=\"134.344865\"/>\n     <use style=\"fill-opacity:0;stroke:#000000;\" x=\"305.195531\" xlink:href=\"#m44aaa92831\" y=\"143.557324\"/>\n     <use style=\"fill-opacity:0;stroke:#000000;\" x=\"305.195531\" xlink:href=\"#m44aaa92831\" y=\"120.526221\"/>\n     <use style=\"fill-opacity:0;stroke:#000000;\" x=\"305.195531\" xlink:href=\"#m44aaa92831\" y=\"143.557355\"/>\n     <use style=\"fill-opacity:0;stroke:#000000;\" x=\"305.195531\" xlink:href=\"#m44aaa92831\" y=\"120.52622\"/>\n     <use style=\"fill-opacity:0;stroke:#000000;\" x=\"305.195531\" xlink:href=\"#m44aaa92831\" y=\"210.347528\"/>\n     <use style=\"fill-opacity:0;stroke:#000000;\" x=\"305.195531\" xlink:href=\"#m44aaa92831\" y=\"79.070218\"/>\n     <use style=\"fill-opacity:0;stroke:#000000;\" x=\"305.195531\" xlink:href=\"#m44aaa92831\" y=\"112.465334\"/>\n     <use style=\"fill-opacity:0;stroke:#000000;\" x=\"305.195531\" xlink:href=\"#m44aaa92831\" y=\"106.707547\"/>\n     <use style=\"fill-opacity:0;stroke:#000000;\" x=\"305.195531\" xlink:href=\"#m44aaa92831\" y=\"106.707559\"/>\n     <use style=\"fill-opacity:0;stroke:#000000;\" x=\"305.195531\" xlink:href=\"#m44aaa92831\" y=\"106.707552\"/>\n     <use style=\"fill-opacity:0;stroke:#000000;\" x=\"305.195531\" xlink:href=\"#m44aaa92831\" y=\"97.495125\"/>\n     <use style=\"fill-opacity:0;stroke:#000000;\" x=\"305.195531\" xlink:href=\"#m44aaa92831\" y=\"106.707558\"/>\n     <use style=\"fill-opacity:0;stroke:#000000;\" x=\"305.195531\" xlink:href=\"#m44aaa92831\" y=\"111.313683\"/>\n     <use style=\"fill-opacity:0;stroke:#000000;\" x=\"305.195531\" xlink:href=\"#m44aaa92831\" y=\"111.313778\"/>\n     <use style=\"fill-opacity:0;stroke:#000000;\" x=\"305.195531\" xlink:href=\"#m44aaa92831\" y=\"106.707557\"/>\n     <use style=\"fill-opacity:0;stroke:#000000;\" x=\"305.195531\" xlink:href=\"#m44aaa92831\" y=\"83.676467\"/>\n     <use style=\"fill-opacity:0;stroke:#000000;\" x=\"305.195531\" xlink:href=\"#m44aaa92831\" y=\"109.010624\"/>\n     <use style=\"fill-opacity:0;stroke:#000000;\" x=\"305.195531\" xlink:href=\"#m44aaa92831\" y=\"102.101337\"/>\n     <use style=\"fill-opacity:0;stroke:#000000;\" x=\"305.195531\" xlink:href=\"#m44aaa92831\" y=\"106.707557\"/>\n     <use style=\"fill-opacity:0;stroke:#000000;\" x=\"305.195531\" xlink:href=\"#m44aaa92831\" y=\"106.707551\"/>\n     <use style=\"fill-opacity:0;stroke:#000000;\" x=\"305.195531\" xlink:href=\"#m44aaa92831\" y=\"111.313764\"/>\n     <use style=\"fill-opacity:0;stroke:#000000;\" x=\"305.195531\" xlink:href=\"#m44aaa92831\" y=\"111.313773\"/>\n     <use style=\"fill-opacity:0;stroke:#000000;\" x=\"305.195531\" xlink:href=\"#m44aaa92831\" y=\"74.464007\"/>\n     <use style=\"fill-opacity:0;stroke:#000000;\" x=\"305.195531\" xlink:href=\"#m44aaa92831\" y=\"33.008011\"/>\n     <use style=\"fill-opacity:0;stroke:#000000;\" x=\"305.195531\" xlink:href=\"#m44aaa92831\" y=\"33.008029\"/>\n     <use style=\"fill-opacity:0;stroke:#000000;\" x=\"305.195531\" xlink:href=\"#m44aaa92831\" y=\"102.101302\"/>\n     <use style=\"fill-opacity:0;stroke:#000000;\" x=\"305.195531\" xlink:href=\"#m44aaa92831\" y=\"111.313784\"/>\n     <use style=\"fill-opacity:0;stroke:#000000;\" x=\"305.195531\" xlink:href=\"#m44aaa92831\" y=\"112.465334\"/>\n     <use style=\"fill-opacity:0;stroke:#000000;\" x=\"305.195531\" xlink:href=\"#m44aaa92831\" y=\"17.083636\"/>\n     <use style=\"fill-opacity:0;stroke:#000000;\" x=\"305.195531\" xlink:href=\"#m44aaa92831\" y=\"33.008025\"/>\n     <use style=\"fill-opacity:0;stroke:#000000;\" x=\"305.195531\" xlink:href=\"#m44aaa92831\" y=\"92.888893\"/>\n     <use style=\"fill-opacity:0;stroke:#000000;\" x=\"305.195531\" xlink:href=\"#m44aaa92831\" y=\"111.313617\"/>\n     <use style=\"fill-opacity:0;stroke:#000000;\" x=\"305.195531\" xlink:href=\"#m44aaa92831\" y=\"106.707484\"/>\n     <use style=\"fill-opacity:0;stroke:#000000;\" x=\"305.195531\" xlink:href=\"#m44aaa92831\" y=\"114.998759\"/>\n     <use style=\"fill-opacity:0;stroke:#000000;\" x=\"305.195531\" xlink:href=\"#m44aaa92831\" y=\"115.152296\"/>\n     <use style=\"fill-opacity:0;stroke:#000000;\" x=\"305.195531\" xlink:href=\"#m44aaa92831\" y=\"112.849183\"/>\n     <use style=\"fill-opacity:0;stroke:#000000;\" x=\"305.195531\" xlink:href=\"#m44aaa92831\" y=\"83.676403\"/>\n    </g>\n   </g>\n   <g id=\"line2d_20\">\n    <path clip-path=\"url(#p0d26f0fc20)\" d=\"M 125.240531 115.920009 \nL 150.350531 115.920009 \n\" style=\"fill:none;stroke:#b0b0b0;stroke-linecap:round;\"/>\n   </g>\n   <g id=\"line2d_21\">\n    <path clip-path=\"url(#p0d26f0fc20)\" d=\"M 292.640531 115.919995 \nL 317.750531 115.919995 \n\" style=\"fill:none;stroke:#b0b0b0;stroke-linecap:round;\"/>\n   </g>\n   <g id=\"patch_3\">\n    <path d=\"M 54.095531 224.64 \nL 54.095531 7.2 \n\" style=\"fill:none;stroke:#ffffff;stroke-linecap:square;stroke-linejoin:miter;stroke-width:1.25;\"/>\n   </g>\n   <g id=\"patch_4\">\n    <path d=\"M 388.895531 224.64 \nL 388.895531 7.2 \n\" style=\"fill:none;stroke:#ffffff;stroke-linecap:square;stroke-linejoin:miter;stroke-width:1.25;\"/>\n   </g>\n   <g id=\"patch_5\">\n    <path d=\"M 54.095531 224.64 \nL 388.895531 224.64 \n\" style=\"fill:none;stroke:#ffffff;stroke-linecap:square;stroke-linejoin:miter;stroke-width:1.25;\"/>\n   </g>\n   <g id=\"patch_6\">\n    <path d=\"M 54.095531 7.2 \nL 388.895531 7.2 \n\" style=\"fill:none;stroke:#ffffff;stroke-linecap:square;stroke-linejoin:miter;stroke-width:1.25;\"/>\n   </g>\n  </g>\n </g>\n <defs>\n  <clipPath id=\"p0d26f0fc20\">\n   <rect height=\"217.44\" width=\"334.8\" x=\"54.095531\" y=\"7.2\"/>\n  </clipPath>\n </defs>\n</svg>\n",
      "image/png": "[encoded data removed]"
     },
     "metadata": {}
    }
   ],
   "metadata": {}
  }
 ],
 "metadata": {
  "orig_nbformat": 4,
  "language_info": {
   "name": "python",
   "version": "3.8.10",
   "mimetype": "text/x-python",
   "codemirror_mode": {
    "name": "ipython",
    "version": 3
   },
   "pygments_lexer": "ipython3",
   "nbconvert_exporter": "python",
   "file_extension": ".py"
  },
  "kernelspec": {
   "name": "python3",
   "display_name": "Python 3.8.10 64-bit ('.venv': venv)"
  },
  "interpreter": {
   "hash": "5b01ea270aa5259acbf4f8381f599d977e3036a7ea54781fba0ae6d431406d64"
  }
 },
 "nbformat": 4,
 "nbformat_minor": 2
}